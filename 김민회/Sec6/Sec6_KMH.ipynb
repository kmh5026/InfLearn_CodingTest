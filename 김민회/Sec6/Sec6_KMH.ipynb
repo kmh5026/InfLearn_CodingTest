{
 "cells": [
  {
   "cell_type": "markdown",
   "metadata": {},
   "source": [
    "# <span style = 'color: black; background-color: #dcffe4'> Sec.6 완전탐색 / DFS 기초  </span> \n",
    "* 완전 탐색 : 백트래킹, 상태트리, Cut Edge  \n",
    "* DFS : 깊이 우선 탐색 </span> \n",
    "--- "
   ]
  },
  {
   "cell_type": "markdown",
   "metadata": {},
   "source": [
    "# <span style = 'color: black; background-color: #ffdce0'> [선수지식] 재귀함수와 스택 ***** </span> "
   ]
  },
  {
   "cell_type": "markdown",
   "metadata": {},
   "source": [
    "* 재귀함수 : 반복문의 효과 (대체재) (중첩 반복문 대신 사용) "
   ]
  },
  {
   "cell_type": "code",
   "execution_count": 3,
   "metadata": {},
   "outputs": [
    {
     "name": "stdout",
     "output_type": "stream",
     "text": [
      "3 2 1 "
     ]
    }
   ],
   "source": [
    "def DFS(x): \n",
    "    if x > 0: \n",
    "        print(x, end=' ') \n",
    "        DFS(x-1) \n",
    "\n",
    "if __name__ == \"__main__\": \n",
    "    n = int(input()) \n",
    "    DFS(n) "
   ]
  },
  {
   "cell_type": "code",
   "execution_count": 4,
   "metadata": {},
   "outputs": [
    {
     "name": "stdout",
     "output_type": "stream",
     "text": [
      "1 2 3 "
     ]
    }
   ],
   "source": [
    "def DFS(x): \n",
    "    if x > 0: \n",
    "        DFS(x-1)           # 재귀함수 ***** \n",
    "        print(x, end=' ') \n",
    "\n",
    "if __name__ == \"__main__\": \n",
    "    n = int(input()) \n",
    "    DFS(n) "
   ]
  },
  {
   "cell_type": "markdown",
   "metadata": {},
   "source": [
    "### 순서가 바뀌는 이유 \n",
    "**메모리가 스택 형식을 활용하기 때문**  \n",
    "#### 작동 순서 \n",
    "1. n 입력 받음 (n=3)\n",
    "2. $DFS(3)$ $\\rarr$ x가 0 초과 $\\rarr$ $DFS(2)$ 진행 : x=3과 복귀주소 (print) 메모리(스택)에 저장해둔 채 \n",
    "3. $DFS(2)$ $\\rarr$ x가 0 초과 $\\rarr$ $DFS(1)$ 진행 : x=2와 복귀주소 (print) 메모리(스택)에 저장해둔 채 \n",
    "4. $DFS(1)$ $\\rarr$ x가 0 초과 $\\rarr$ $DFS(0)$ 진행 : x=1과 복귀주소 (print) 메모리(스택)에 저장해둔 채 \n",
    "5. $DFS(0)$ $\\rarr$ x가 0 $\\quad \\quad \\rarr$ $x=1$과 복귀주소로 돌아감 $\\rarr$ $print( 1 )$ \n",
    "6. $\\rarr$ $x=2$와 복귀주소로 돌아감 $\\rarr$ $print(2)$ \n",
    "7. $\\rarr$ $x=3$과 복귀주소로 돌아감 $\\rarr$ $print(3)$ \n",
    "8. $\\rarr$ 복귀주소로 돌아감 (__main__의 DFS(n) 다음줄)\n",
    "\n"
   ]
  },
  {
   "cell_type": "markdown",
   "metadata": {},
   "source": [
    "# <span style = 'color: black; background-color: #ffdce0'> 1. 재귀함수를 활용한 이진수 출력 *** </span>\n",
    "--- "
   ]
  },
  {
   "cell_type": "code",
   "execution_count": 1,
   "metadata": {},
   "outputs": [
    {
     "name": "stdout",
     "output_type": "stream",
     "text": [
      "10111"
     ]
    }
   ],
   "source": [
    "\n",
    "# 재귀함수를 이용한 이진수 출력 \n",
    "\n",
    "import sys \n",
    "# sys.stdin = open('/Users/kimmh/Desktop/Algorithm/Sec6/1. 재귀함수란(이진수출력)/in5.txt', 'rt') \n",
    "\n",
    "#--------------------------------------------------------------------------------# \n",
    "# 1. 10진수 N이 입력 \n",
    "# 2. 2진수로 변환하여 출력하는 프로그램 (재귀함수 이용) \n",
    "# \n",
    "# 입력) N (1 이상 1000 이하) \n",
    "# 출력) 이진수 \n",
    "#--------------------------------------------------------------------------------# \n",
    "\n",
    "def DFS(x): \n",
    "    if x == 0:      # 함수 종료 (무한반복 방지) \n",
    "        return \n",
    "    \n",
    "    else:           # 재귀함수 호출 \n",
    "        DFS(x//2) \n",
    "        print(x%2, end='') \n",
    "        \n",
    "# ex1) N = 11 \n",
    "# DFS(11)  >  11 기록 (스택)  >  DFS(5) \n",
    "# DFS(5)   >   5 기록 (스택)  >  DFS(2) \n",
    "# DFS(2)   >   2 기록 (스택)  >  DFS(1) \n",
    "# DFS(1)   >   1 기록 (스택)  >  DFS(0)  > 함수 종료  >  백트래킹 \n",
    "# print( 1%2 ) == print( 1 ) \n",
    "# print( 2%2 ) == print( 0 ) \n",
    "# print( 5%2 ) == print( 1 ) \n",
    "# print( 11%2 ) == print( 1 )  >>> 1011 출력 \n",
    "\n",
    "# ex2) N = 23 \n",
    "# DFS(23)  >  23 기록 (스택)  >  DFS(11) \n",
    "# DFS(11)   >   11 기록 (스택)  >  DFS(5) \n",
    "# DFS(5)   >   5 기록 (스택)  >  DFS(2) \n",
    "# DFS(2)   >   2 기록 (스택)  >  DFS(1) \n",
    "# DFS(1)   >   1 기록 (스택)  >  DFS(0)  > 함수 종료  >  백트래킹 \n",
    "# print( 1%2 ) == print( 1 ) \n",
    "# print( 2%2 ) == print( 0 ) \n",
    "# print( 5%2 ) == print( 1 ) \n",
    "# print( 11%2 ) == print( 1 ) \n",
    "# print( 23%2 ) == print( 1 )  >>> 10111 출력 \n",
    "\n",
    "\n",
    "if __name__ == '__main__': \n",
    "    N = int(input()) \n",
    "    DFS(N) "
   ]
  },
  {
   "cell_type": "code",
   "execution_count": 6,
   "metadata": {},
   "outputs": [
    {
     "name": "stdout",
     "output_type": "stream",
     "text": [
      "10111\n"
     ]
    }
   ],
   "source": [
    "def ejin(x): \n",
    "    ans = '' \n",
    "    while x > 0: \n",
    "        div = x//2 \n",
    "        mod = x%2 \n",
    "        ans += str(mod) \n",
    "        x = div \n",
    "    print( ans[::-1] ) \n",
    "\n",
    "ejin(int(input())) "
   ]
  },
  {
   "cell_type": "markdown",
   "metadata": {},
   "source": [
    "# <span style = 'color: black; background-color: #ffdce0'> 2. 이진트리순회 (DFS) </span>\n",
    "--- "
   ]
  },
  {
   "cell_type": "markdown",
   "metadata": {},
   "source": [
    "## DFS \n",
    "* 부모 노드에서 왼쪽 노드로 계속 뻗음 \n",
    "* 말단 노드가 나오면 한 단계 백트래킹 > 다른 노드 (오른쪽) 탐색 \n",
    "* 탐색할 것이 없으면 다시 백트래킹 (반복)  \n",
    "\n",
    "<img src='./DFS.png' width='40%'> \n",
    "\n",
    "### 1. 전위순회  - 부 왼 오 \n",
    "* 1 2 4 (2) 5 (2) (1) 3 6 (3) 7 \n",
    "\n",
    "### 2. 중위순회  - 왼 부 오 \n",
    "* (1) (2) 4 2 5 (2) 1 (3) 6 3 7 \n",
    "\n",
    "### 3. 후위순회  - 왼 오 부 \n",
    "* (1) (2) 4 (2) 5 2 (1) (3) 6 (3) 7 3 1 "
   ]
  },
  {
   "cell_type": "markdown",
   "metadata": {},
   "source": [
    "* **왼쪽** : 부모 $\\times 2$ \n",
    "* **오른쪽** : 부모 $\\times 2 + 1$  "
   ]
  },
  {
   "cell_type": "code",
   "execution_count": 2,
   "metadata": {},
   "outputs": [
    {
     "name": "stdout",
     "output_type": "stream",
     "text": [
      "1 2 4 5 3 6 7 "
     ]
    }
   ],
   "source": [
    "def DFS(v): \n",
    "    if v > 7: \n",
    "        return \n",
    "    \n",
    "    else: \n",
    "        print(v, end=' ')     ### 호출 넘어가기 전에 task 수행 >>> 전위순회 \n",
    "        DFS(v*2)              # DFS(2) > DFS(2*2)   = DFS(4)    ( DFS(4*2)와 DFS(4*2+1)은 7 초과하므로 실행되지 않음 ) \n",
    "                              #        > DFS(2*2+1) = DFS(5)    ( DFS(5*2)와 DFS(5*2+1)은 7 초과하므로 실행되지 않음 ) \n",
    "        DFS(v*2+1)            # DFS(3) > DFS(3*2)   = DFS(6)    ( DFS(6*2)와 DFS(6*2+1)은 7 초과하므로 실행되지 않음 ) \n",
    "                              #        > DFS(3*2+1) = DFS(7)    ( DFS(7*2)와 DFS(7*2+1)은 7 초과하므로 실행되지 않음 ) \n",
    "\n",
    "\n",
    "if __name__ == '__main__': \n",
    "    DFS(1) "
   ]
  },
  {
   "cell_type": "code",
   "execution_count": 3,
   "metadata": {},
   "outputs": [
    {
     "name": "stdout",
     "output_type": "stream",
     "text": [
      "4 2 5 1 6 3 7 "
     ]
    }
   ],
   "source": [
    "def DFS(v): \n",
    "    if v > 7: \n",
    "        return \n",
    "    \n",
    "    else: \n",
    "        \n",
    "        DFS(v*2)              # \n",
    "                              # \n",
    "                              \n",
    "        print(v, end=' ')     ### 호출 중간에 task 수행 >>> 중위순회 (거의 없음) \n",
    "        \n",
    "        DFS(v*2+1)            # \n",
    "                              # \n",
    "\n",
    "\n",
    "if __name__ == '__main__': \n",
    "    DFS(1) "
   ]
  },
  {
   "cell_type": "code",
   "execution_count": 4,
   "metadata": {},
   "outputs": [
    {
     "name": "stdout",
     "output_type": "stream",
     "text": [
      "4 5 2 6 7 3 1 "
     ]
    }
   ],
   "source": [
    "def DFS(v): \n",
    "    if v > 7: \n",
    "        return \n",
    "    \n",
    "    else: \n",
    "        \n",
    "        DFS(v*2)              # \n",
    "                              # \n",
    "        \n",
    "        DFS(v*2+1)            # \n",
    "                              # \n",
    "                                      \n",
    "        print(v, end=' ')     ### 호출 끝나고 task 수행 >>> 후위순회 (병합정렬 시 사용) \n",
    "\n",
    "\n",
    "if __name__ == '__main__': \n",
    "    DFS(1) "
   ]
  },
  {
   "cell_type": "markdown",
   "metadata": {},
   "source": [
    "# <span style = 'color: black; background-color: #ffdce0'> 3. 부분집합 구하기 (DFS) ***** </span>\n",
    "--- "
   ]
  },
  {
   "cell_type": "markdown",
   "metadata": {},
   "source": [
    "<img src='./num3_1.png' width='60%'> "
   ]
  },
  {
   "cell_type": "code",
   "execution_count": 1,
   "metadata": {},
   "outputs": [
    {
     "name": "stdout",
     "output_type": "stream",
     "text": [
      "1 2 3 \n",
      "1 2 \n",
      "1 3 \n",
      "1 \n",
      "2 3 \n",
      "2 \n",
      "3 \n",
      "\n"
     ]
    }
   ],
   "source": [
    "\n",
    "# 부분집합 구하기 (DFS) ***** \n",
    "\n",
    "import sys \n",
    "sys.stdin = open('/Users/kimmh/Desktop/Algorithm/Sec6/3. 부분집합 구하기/in1.txt', 'rt') \n",
    "\n",
    "#--------------------------------------------------------------------------------# \n",
    "# 1. 자연수 N 입력 \n",
    "# 2. 1부터 N까지의 원소를 갖는 집합의 부분집합을 모두 출력 \n",
    "# \n",
    "# 입력) N (1 이상 10 이하) \n",
    "# 출력) 각 줄에 하나씩 부분집합 \n",
    "#--------------------------------------------------------------------------------# \n",
    "\n",
    "# 순서 : 1 포함되는 부분집합 모두 (길이 내림차순)       [123] [12 ] [1 3] [1  ] \n",
    "#       2 포함되는 부분집합 모두 (1 포함 제외)        [ 23] [ 2 ] \n",
    "#           ... \n",
    "#       N-1 포함되는 부분집합 모두 (N-2 포함 제외) \n",
    "#       N 하나                                 [  3] \n",
    "\n",
    "# 부분집합 개수는 2^N - 1 (공집합 제외) \n",
    "# 이진트리의 개념으로 연결!! \n",
    "\n",
    "\n",
    "# DFS(1) 부터 시작, 가지는 1이 포함 되나 안 되나, 다음 노드는 DFS(2), 그 다음은 DFS(3) \n",
    "# 순회는 1이 포함되는 것으로 시작 (왼쪽 가지) \n",
    "\n",
    "##### 상태트리 ##### \n",
    "\n",
    "def DFS(v): \n",
    "    if v == N+1:        # 말단 노드(N+1)에 도착할 때마다 >>> 1 ~ N까지 포함 여부를 (check 기준으로) 출력 \n",
    "        for i in range(1, N+1): \n",
    "            if check[i] == 1: \n",
    "                print(i, end=' ') \n",
    "        print() \n",
    "    \n",
    "    else: \n",
    "        check[v] = 1    # v 포함하는 경우 \n",
    "        DFS(v+1)        #   다음 노드로 \n",
    "        check[v] = 0    # v 포함하지 않는 경우 \n",
    "        DFS(v+1)        #   다음 노드로 \n",
    "\n",
    "\n",
    "if __name__ == '__main__': \n",
    "    N = int(input()) \n",
    "    check = [0] * (N+1)  # 1 ~ N까지의 숫자 (인덱스) \n",
    "    DFS(1) "
   ]
  },
  {
   "cell_type": "markdown",
   "metadata": {},
   "source": [
    "# <span style = 'color: black; background-color: #ffdce0'> 4. 합이 같은 부분집합 (DFS) ***** </span>\n",
    "--- "
   ]
  },
  {
   "cell_type": "code",
   "execution_count": null,
   "metadata": {},
   "outputs": [],
   "source": [
    "\n",
    "# 부분집합 구하기 (DFS) ***** \n",
    "\n",
    "import sys \n",
    "sys.stdin = open('/Users/kimmh/Desktop/Algorithm/Sec6/4. 합이 같은 부분집합/in4.txt', 'rt') \n",
    "\n",
    "#--------------------------------------------------------------------------------# \n",
    "# 1. N개의 원소로 구성된 자연수 집합 \n",
    "# 2. 2개의 부분집합으로 나눴을 때 각 원소 합이 같은 경우가 존재하면 'YES', 존재하지 않으면 'NO' 출력 \n",
    "# 3. 두 부분집합은 서로소 집합 (disjoint) \n",
    "# \n",
    "# 입력1) N (1 이상 10 이하) \n",
    "# 입력2) 원소 N개 (중복 X) \n",
    "# 출력) YES / NO \n",
    "#--------------------------------------------------------------------------------# \n",
    "\n",
    "# 원소 N개만큼 0 리스트 만들어서 각 원소 i에 대해 +i / -i 로 두 부분집합을 구분..? \n",
    "# sum(리스트) == 0 이면 YES, 아니면 NO \n",
    "\n",
    "\n",
    "### YES인 경우는 맞음 / But, NO인 경우는 어떻게...?  >>> 재귀함수 호출 이후에 print('NO') \n",
    "def DFS(v): \n",
    "    if v == N+1:            # 말단 노드(N+1)에 도착할 때마다 >>> 1 ~ N까지 포함 여부를 (check 기준으로) 출력 \n",
    "        if sum(check)==0:   # 두 부분집합의 합이 같다면, \n",
    "            print('YES') \n",
    "            sys.exit(0)     ### 함수 종료 (소스코드) \n",
    "    \n",
    "    else: \n",
    "        check[v-1] = og[v-1]    # 왼부분집합은  (+)\n",
    "        DFS(v+1)                #   다음 노드로 \n",
    "        check[v-1] = -og[v-1]   # 오른부분집합은 (-) \n",
    "        DFS(v+1)                #   다음 노드로 \n",
    "\n",
    "\n",
    "if __name__ == '__main__': \n",
    "    N = int(input()) \n",
    "    og = list( map(int, input().split()) )  \n",
    "    check = [0] * (N)  # 1 ~ N까지의 원소 (층)  \n",
    "    DFS(1) \n",
    "\n",
    "    print('NO')        # 말단 노드까지 다 가고나서 아무런 동작('YES')을 하지 못한 경우를 의미 \n"
   ]
  },
  {
   "cell_type": "code",
   "execution_count": null,
   "metadata": {},
   "outputs": [],
   "source": [
    "'''소스코드 + 강의'''\n",
    "# 포함 O/X로 트리 뻗어나감 \n",
    "# 말단까지 순회한 결과(O)를 부분집합 1로, 포함되지 않은 원소들을 부분집합 2로 (자동적) \n",
    "# total = 원래 집합 총합 / sum = 부분집합1의 총합 \n",
    "# \"sum == total - sum\" 인 경우 'YES' \n",
    "# sum이 total의 절반을 넘어서는 경우 함수(탐색) 종료 \n",
    "\n",
    "def DFS(L, sum):        # L : 인덱스 번호(level) / sum : 포함된 원소들 누적합 \n",
    "    if sum > total//2: \n",
    "        return \n",
    "\n",
    "    if L == N: \n",
    "        if sum == total - sum: \n",
    "            print('YES') \n",
    "            sys.exit(0)     # 프로그램 종료 \n",
    "    \n",
    "    else: \n",
    "        DFS(L+1, sum + a[L])    # 부분집합에 포함 O \n",
    "        DFS(L+1, sum)           # 부분집합에 포함 X \n",
    "    \n",
    "\n",
    "\n",
    "if __name__ == '__main__': \n",
    "    N = int(input()) \n",
    "    a = list( map(int, input().split()) ) \n",
    "    total = sum(a) \n",
    "    DFS(0, 0) \n",
    "\n",
    "    print('NO')         # 출력 없이 재귀 끝나면 NO 출력 "
   ]
  },
  {
   "cell_type": "markdown",
   "metadata": {},
   "source": [
    "### 참고) 프로그램 종료 \n",
    "* sys.exit(0) : 프로그램을 정상적으로 종료 \n",
    "* sys.exit(1) : 프로그램을 비정상적으로라도, 강제로 종료하고자 할 때 "
   ]
  },
  {
   "cell_type": "markdown",
   "metadata": {},
   "source": [
    "# <span style = 'color: black; background-color: #ffdce0'> [참고지식] 전역변수와 지역변수 ***** </span>\n",
    "--- "
   ]
  },
  {
   "cell_type": "code",
   "execution_count": 1,
   "metadata": {},
   "outputs": [
    {
     "name": "stdout",
     "output_type": "stream",
     "text": [
      "5\n",
      "5\n",
      "5\n"
     ]
    }
   ],
   "source": [
    "'''전역변수와 지역변수''' \n",
    "\n",
    "def DFS1(): \n",
    "    print(cnt)      # 함수 작동 시 cnt가 지역변수인지 먼저 확인 / 그 후 전역변수인지 확인 (지역변수가 우선) \n",
    "\n",
    "def DFS2(): \n",
    "    if cnt == 5: \n",
    "        print(cnt) \n",
    "\n",
    "if __name__=='__main__': \n",
    "    cnt = 5                 # 전역변수 : main script \n",
    "    # 변수 생성과 할당이 이뤄짐 \n",
    "    # 전역변수 : 모든 함수가 다 접근 가능, 값도 변경 가능 (공용) \n",
    "    DFS1() \n",
    "    DFS2() \n",
    "    print(cnt) "
   ]
  },
  {
   "cell_type": "code",
   "execution_count": 2,
   "metadata": {},
   "outputs": [
    {
     "name": "stdout",
     "output_type": "stream",
     "text": [
      "3\n",
      "5\n",
      "5\n"
     ]
    }
   ],
   "source": [
    "def DFS1(): \n",
    "    cnt = 3     # 지역변수 cnt를 생성 (지역변수가 우선) \n",
    "    print(cnt)  # 3 출력 \n",
    "\n",
    "def DFS2(): \n",
    "    if cnt == 5:    # 지역변수 없음, 전역변수 cnt=5 불러옴 \n",
    "        print(cnt)  # 5 출력 \n",
    "\n",
    "if __name__=='__main__': \n",
    "    cnt = 5                 # 전역변수 : main script \n",
    "    # 변수 생성과 할당이 이뤄짐 \n",
    "    # 전역변수 : 모든 함수가 다 접근 가능, 값도 변경 가능 (공용) \n",
    "    DFS1() \n",
    "    DFS2() \n",
    "    print(cnt) "
   ]
  },
  {
   "cell_type": "code",
   "execution_count": 3,
   "metadata": {},
   "outputs": [
    {
     "name": "stdout",
     "output_type": "stream",
     "text": [
      "3\n"
     ]
    },
    {
     "ename": "UnboundLocalError",
     "evalue": "local variable 'cnt' referenced before assignment",
     "output_type": "error",
     "traceback": [
      "\u001b[0;31m---------------------------------------------------------------------------\u001b[0m",
      "\u001b[0;31mUnboundLocalError\u001b[0m                         Traceback (most recent call last)",
      "\u001b[1;32m/Users/kimmh/Desktop/Algorithm/Sec6/Sec6_KMH.ipynb Cell 25'\u001b[0m in \u001b[0;36m<module>\u001b[0;34m\u001b[0m\n\u001b[1;32m     <a href='vscode-notebook-cell:/Users/kimmh/Desktop/Algorithm/Sec6/Sec6_KMH.ipynb#ch0000026?line=11'>12</a>\u001b[0m \u001b[39m# 변수 생성과 할당이 이뤄짐 \u001b[39;00m\n\u001b[1;32m     <a href='vscode-notebook-cell:/Users/kimmh/Desktop/Algorithm/Sec6/Sec6_KMH.ipynb#ch0000026?line=12'>13</a>\u001b[0m \u001b[39m# 전역변수 : 모든 함수가 다 접근 가능, 값도 변경 가능 (공용) \u001b[39;00m\n\u001b[1;32m     <a href='vscode-notebook-cell:/Users/kimmh/Desktop/Algorithm/Sec6/Sec6_KMH.ipynb#ch0000026?line=13'>14</a>\u001b[0m DFS1() \n\u001b[0;32m---> <a href='vscode-notebook-cell:/Users/kimmh/Desktop/Algorithm/Sec6/Sec6_KMH.ipynb#ch0000026?line=14'>15</a>\u001b[0m DFS2() \n\u001b[1;32m     <a href='vscode-notebook-cell:/Users/kimmh/Desktop/Algorithm/Sec6/Sec6_KMH.ipynb#ch0000026?line=15'>16</a>\u001b[0m \u001b[39mprint\u001b[39m(cnt)\n",
      "\u001b[1;32m/Users/kimmh/Desktop/Algorithm/Sec6/Sec6_KMH.ipynb Cell 25'\u001b[0m in \u001b[0;36mDFS2\u001b[0;34m()\u001b[0m\n\u001b[1;32m      <a href='vscode-notebook-cell:/Users/kimmh/Desktop/Algorithm/Sec6/Sec6_KMH.ipynb#ch0000026?line=4'>5</a>\u001b[0m \u001b[39mdef\u001b[39;00m \u001b[39mDFS2\u001b[39m():             \u001b[39m# 함수 실행 시 인터프리터가 먼저 작동됨 > line3에서 지역변수가 생성됐다고 인식, \u001b[39;00m\n\u001b[0;32m----> <a href='vscode-notebook-cell:/Users/kimmh/Desktop/Algorithm/Sec6/Sec6_KMH.ipynb#ch0000026?line=5'>6</a>\u001b[0m     \u001b[39mif\u001b[39;00m cnt \u001b[39m==\u001b[39m \u001b[39m5\u001b[39m:        \u001b[39m# 하지만 실행 과정에선 지역변수 값이 할당되기 전 >>> ERROR \u001b[39;00m\n\u001b[1;32m      <a href='vscode-notebook-cell:/Users/kimmh/Desktop/Algorithm/Sec6/Sec6_KMH.ipynb#ch0000026?line=6'>7</a>\u001b[0m         cnt \u001b[39m=\u001b[39m cnt \u001b[39m+\u001b[39m \u001b[39m1\u001b[39m   \u001b[39m# 지역변수 cnt 생성 \u001b[39;00m\n\u001b[1;32m      <a href='vscode-notebook-cell:/Users/kimmh/Desktop/Algorithm/Sec6/Sec6_KMH.ipynb#ch0000026?line=7'>8</a>\u001b[0m         \u001b[39mprint\u001b[39m(cnt)\n",
      "\u001b[0;31mUnboundLocalError\u001b[0m: local variable 'cnt' referenced before assignment"
     ]
    }
   ],
   "source": [
    "def DFS1(): \n",
    "    cnt = 3     # 지역변수 cnt를 생성 (지역변수가 우선) \n",
    "    print(cnt)  # 3 출력 \n",
    "\n",
    "def DFS2():             # 함수 실행 시 인터프리터가 먼저 작동됨 > line7에서 지역변수가 생성됐다고 인식, \n",
    "    if cnt == 5:        # 하지만 실행 과정에선 지역변수 값이 할당되기 전 >>> ERROR \n",
    "        cnt = cnt + 1   # 지역변수 cnt 생성 \n",
    "        print(cnt) \n",
    "\n",
    "if __name__=='__main__': \n",
    "    cnt = 5                 # 전역변수 : main script \n",
    "    # 변수 생성과 할당이 이뤄짐 \n",
    "    # 전역변수 : 모든 함수가 다 접근 가능, 값도 변경 가능 (공용) \n",
    "    DFS1() \n",
    "    DFS2() \n",
    "    print(cnt) "
   ]
  },
  {
   "cell_type": "code",
   "execution_count": 4,
   "metadata": {},
   "outputs": [
    {
     "name": "stdout",
     "output_type": "stream",
     "text": [
      "3\n",
      "6\n",
      "6\n"
     ]
    }
   ],
   "source": [
    "def DFS1(): \n",
    "    cnt = 3     # 지역변수 cnt를 생성 (지역변수가 우선) \n",
    "    print(cnt)  # 3 출력 \n",
    "\n",
    "def DFS2(): \n",
    "    global cnt              # \"cnt는 전역변수다\" 선언 \n",
    "    if cnt == 5: \n",
    "        cnt = cnt + 1       # 인터프리터가 cnt를 로컬변수로 인식 X \n",
    "        print(cnt)          # 전역변수 cnt = 6 으로 변경되어 출력 \n",
    "\n",
    "if __name__=='__main__': \n",
    "    cnt = 5                 # 전역변수 : main script \n",
    "    DFS1() \n",
    "    DFS2() \n",
    "    print(cnt)              # 전역변수 변경되었으므로 6 출력 "
   ]
  },
  {
   "cell_type": "code",
   "execution_count": 5,
   "metadata": {},
   "outputs": [
    {
     "name": "stdout",
     "output_type": "stream",
     "text": [
      "[7, 2, 3]\n",
      "[7, 2, 3]\n"
     ]
    }
   ],
   "source": [
    "'''리스트는 다르다!''' \n",
    "\n",
    "def DFS(): \n",
    "    a[0] = 7                # 로컬리스트 생성을 의미하는 것이 아니라, \n",
    "    print(a)                # a[0] 을 변경(참조)하는 것일 뿐 \n",
    "\n",
    "if __name__ == '__main__': \n",
    "    a = [1, 2, 3]           # 전역리스트 \n",
    "    DFS()\n",
    "    print(a) "
   ]
  },
  {
   "cell_type": "code",
   "execution_count": 6,
   "metadata": {},
   "outputs": [
    {
     "name": "stdout",
     "output_type": "stream",
     "text": [
      "[7, 8]\n",
      "[1, 2, 3]\n"
     ]
    }
   ],
   "source": [
    "def DFS(): \n",
    "    a = [7, 8]              # 로컬리스트 생성 \n",
    "    print(a) \n",
    "\n",
    "if __name__ == '__main__': \n",
    "    a = [1, 2, 3]           # 전역리스트 \n",
    "    DFS()\n",
    "    print(a) "
   ]
  },
  {
   "cell_type": "code",
   "execution_count": 7,
   "metadata": {},
   "outputs": [
    {
     "ename": "UnboundLocalError",
     "evalue": "local variable 'a' referenced before assignment",
     "output_type": "error",
     "traceback": [
      "\u001b[0;31m---------------------------------------------------------------------------\u001b[0m",
      "\u001b[0;31mUnboundLocalError\u001b[0m                         Traceback (most recent call last)",
      "\u001b[1;32m/Users/kimmh/Desktop/Algorithm/Sec6/Sec6_KMH.ipynb Cell 29'\u001b[0m in \u001b[0;36m<module>\u001b[0;34m\u001b[0m\n\u001b[1;32m      <a href='vscode-notebook-cell:/Users/kimmh/Desktop/Algorithm/Sec6/Sec6_KMH.ipynb#ch0000030?line=4'>5</a>\u001b[0m \u001b[39mif\u001b[39;00m \u001b[39m__name__\u001b[39m \u001b[39m==\u001b[39m \u001b[39m'\u001b[39m\u001b[39m__main__\u001b[39m\u001b[39m'\u001b[39m: \n\u001b[1;32m      <a href='vscode-notebook-cell:/Users/kimmh/Desktop/Algorithm/Sec6/Sec6_KMH.ipynb#ch0000030?line=5'>6</a>\u001b[0m     a \u001b[39m=\u001b[39m [\u001b[39m1\u001b[39m, \u001b[39m2\u001b[39m, \u001b[39m3\u001b[39m]           \u001b[39m# 전역리스트 \u001b[39;00m\n\u001b[0;32m----> <a href='vscode-notebook-cell:/Users/kimmh/Desktop/Algorithm/Sec6/Sec6_KMH.ipynb#ch0000030?line=6'>7</a>\u001b[0m     DFS()\n\u001b[1;32m      <a href='vscode-notebook-cell:/Users/kimmh/Desktop/Algorithm/Sec6/Sec6_KMH.ipynb#ch0000030?line=7'>8</a>\u001b[0m     \u001b[39mprint\u001b[39m(a)\n",
      "\u001b[1;32m/Users/kimmh/Desktop/Algorithm/Sec6/Sec6_KMH.ipynb Cell 29'\u001b[0m in \u001b[0;36mDFS\u001b[0;34m()\u001b[0m\n\u001b[1;32m      <a href='vscode-notebook-cell:/Users/kimmh/Desktop/Algorithm/Sec6/Sec6_KMH.ipynb#ch0000030?line=0'>1</a>\u001b[0m \u001b[39mdef\u001b[39;00m \u001b[39mDFS\u001b[39m(): \n\u001b[0;32m----> <a href='vscode-notebook-cell:/Users/kimmh/Desktop/Algorithm/Sec6/Sec6_KMH.ipynb#ch0000030?line=1'>2</a>\u001b[0m     a \u001b[39m=\u001b[39m a \u001b[39m+\u001b[39m [\u001b[39m4\u001b[39m]             \u001b[39m# ERROR\u001b[39;00m\n\u001b[1;32m      <a href='vscode-notebook-cell:/Users/kimmh/Desktop/Algorithm/Sec6/Sec6_KMH.ipynb#ch0000030?line=2'>3</a>\u001b[0m     \u001b[39mprint\u001b[39m(a)\n",
      "\u001b[0;31mUnboundLocalError\u001b[0m: local variable 'a' referenced before assignment"
     ]
    }
   ],
   "source": [
    "def DFS(): \n",
    "    a = a + [4]             # 로컬리스트 생성을 의미 > 아무것도 없는 a에 +[4] >>> ERROR\n",
    "    print(a) \n",
    "\n",
    "if __name__ == '__main__': \n",
    "    a = [1, 2, 3]           # 전역리스트 \n",
    "    DFS()\n",
    "    print(a) "
   ]
  },
  {
   "cell_type": "code",
   "execution_count": 8,
   "metadata": {},
   "outputs": [
    {
     "name": "stdout",
     "output_type": "stream",
     "text": [
      "[1, 2, 3, 4]\n",
      "[1, 2, 3, 4]\n"
     ]
    }
   ],
   "source": [
    "def DFS(): \n",
    "    global a                # 전역리스트를 사용한다 선언 \n",
    "    a = a + [4] \n",
    "    print(a) \n",
    "\n",
    "if __name__ == '__main__': \n",
    "    a = [1, 2, 3]           # 전역리스트 \n",
    "    DFS()\n",
    "    print(a) "
   ]
  },
  {
   "cell_type": "markdown",
   "metadata": {},
   "source": [
    "# <span style = 'color: black; background-color: #ffdce0'> 5. 바둑이 승차 (Cut Edge Tech) ******* </span>\n",
    "--- "
   ]
  },
  {
   "cell_type": "code",
   "execution_count": null,
   "metadata": {},
   "outputs": [],
   "source": [
    "\n",
    "# 바둑이 승차 (DFS) (Cut Edge Tech.) ******* \n",
    "'''강의에 시간 줄이는 법 나옴 (Cut Edge)''' \n",
    "\n",
    "import sys \n",
    "sys.stdin = open('/Users/kimmh/Desktop/Algorithm/Sec6/5. 바둑이 승차/in1.txt', 'rt') \n",
    "\n",
    "#--------------------------------------------------------------------------------# \n",
    "# 1. 바둑이들 트럭에 태우려 함, 트럭은 C키로 넘게 태울 수 없다 \n",
    "# 2. C를 넘지 않으면서 가장 무겁게 태우고자 \n",
    "# 3. N마리 바둑이와 각 바둑이의 무게 W > 가장 무거운 무게를 출력 \n",
    "# \n",
    "# 입력1) C (1 이상 1억 이하), N (1 이상 30 이하) \n",
    "# 입력2) 각 줄에 N마리의 무게 \n",
    "# 출력) 가장 무거운 무게 \n",
    "#--------------------------------------------------------------------------------# \n",
    "\n",
    "# 그냥 4번과 똑같이 하면 in4, in5에서 시간초과 뜸 \n",
    "# 모든 가지를 다 끝까지 봐야하기 때문 ! \n",
    "\n",
    "# 그렇다면 내려가다가 중간에 끊을 순 없을까 ? \n",
    "\n",
    "# 지금 레벨까지의 sum에 밑에 레벨 모두 다 태워도 result 갱신 불가하다면, 함수 종료 !!! \n",
    "\n",
    "# tsum : 지금 레벨까지 총합 \n",
    "# total - tsum : 남은 레벨들의 총합 \n",
    "# if (total - tsum) + sum < result : \n",
    "#     return \n",
    "\n",
    "\n",
    "def DFS(L, sum, tsum):        # L : 인덱스 번호 / sum : 누적합 / tsum : 지금 레벨까지 총합 \n",
    "    global result \n",
    "\n",
    "    if (total - tsum) + sum < result: \n",
    "        return \n",
    "\n",
    "    if sum > C: \n",
    "        return \n",
    "\n",
    "    if L == N: \n",
    "        if sum > result: \n",
    "            result = sum \n",
    "        \n",
    "    else: \n",
    "        DFS(L+1, sum + weight[L], tsum + weight[L]) \n",
    "        DFS(L+1, sum, tsum + weight[L]) \n",
    "\n",
    "if __name__ == '__main__': \n",
    "    C, N = map(int, input().split()) \n",
    "    result = -1 \n",
    "    total = 0 \n",
    "\n",
    "    weight = [0] * N \n",
    "    for i in range(N): \n",
    "        weight[i] = int(input()) \n",
    "        total += weight[i] \n",
    "\n",
    "    DFS(0, 0, 0) \n",
    "    print(result) "
   ]
  }
 ],
 "metadata": {
  "interpreter": {
   "hash": "1b879032af831e4c7eb6f6df225513f7f9433d53adce87aa43f3c37000f2141c"
  },
  "kernelspec": {
   "display_name": "Python 3.9.5 64-bit ('3.9.5')",
   "language": "python",
   "name": "python3"
  },
  "language_info": {
   "codemirror_mode": {
    "name": "ipython",
    "version": 3
   },
   "file_extension": ".py",
   "mimetype": "text/x-python",
   "name": "python",
   "nbconvert_exporter": "python",
   "pygments_lexer": "ipython3",
   "version": "3.9.5"
  },
  "orig_nbformat": 4
 },
 "nbformat": 4,
 "nbformat_minor": 2
}
