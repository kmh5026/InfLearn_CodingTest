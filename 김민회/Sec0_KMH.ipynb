{
 "cells": [
  {
   "cell_type": "markdown",
   "id": "5775ed5b",
   "metadata": {},
   "source": [
    "# 1. 변수와 출력함수"
   ]
  },
  {
   "cell_type": "code",
   "execution_count": 1,
   "id": "d0671f2c",
   "metadata": {},
   "outputs": [
    {
     "name": "stdout",
     "output_type": "stream",
     "text": [
      "1\n"
     ]
    }
   ],
   "source": [
    "a = 1\n",
    "print(a)"
   ]
  },
  {
   "cell_type": "code",
   "execution_count": 2,
   "id": "8af1d10a",
   "metadata": {},
   "outputs": [
    {
     "name": "stdout",
     "output_type": "stream",
     "text": [
      "3 2\n"
     ]
    }
   ],
   "source": [
    "a, b, c = 3, 2, 1\n",
    "print(a, b)"
   ]
  },
  {
   "cell_type": "code",
   "execution_count": 3,
   "id": "06e060f1",
   "metadata": {},
   "outputs": [
    {
     "name": "stdout",
     "output_type": "stream",
     "text": [
      "10 20\n",
      "20 10\n"
     ]
    }
   ],
   "source": [
    "### 값 교환 \n",
    "\n",
    "a, b = 10, 20 \n",
    "print(a, b)\n",
    "\n",
    "a, b = b, a\n",
    "print(a, b)"
   ]
  },
  {
   "cell_type": "code",
   "execution_count": 4,
   "id": "e4bf6a00",
   "metadata": {},
   "outputs": [
    {
     "name": "stdout",
     "output_type": "stream",
     "text": [
      "<class 'int'>\n",
      "12.123456789123457\n",
      "<class 'float'>\n",
      "<class 'str'>\n"
     ]
    }
   ],
   "source": [
    "### 변수 타입 \n",
    "\n",
    "a = 12345\n",
    "print(type(a))\n",
    "\n",
    "a = 12.123456789123456789  # 뒤에 세자리 저장공간 (8byte=64bit 넘어서 반올림)\n",
    "print(a)\n",
    "print(type(a))\n",
    "\n",
    "a = '12345'\n",
    "print(type(a))"
   ]
  },
  {
   "cell_type": "code",
   "execution_count": 6,
   "id": "4f350127",
   "metadata": {},
   "outputs": [
    {
     "name": "stdout",
     "output_type": "stream",
     "text": [
      "number\n",
      "1 2 3\n",
      "number : 1 2 3\n",
      "123\n",
      "1, 2, 3\n",
      "1\t2\t3\n",
      "1\n",
      "2\n",
      "3\n"
     ]
    }
   ],
   "source": [
    "### 출력 방식 \n",
    "\n",
    "print('number')\n",
    "\n",
    "a, b, c = 1, 2, 3\n",
    "print(a, b, c)    # 자동 띄어쓰기 \n",
    "\n",
    "print('number :', a, b, c)\n",
    "\n",
    "print(a, b, c, sep='')  # separator 지정 \n",
    "print(a, b, c, sep=', ')\n",
    "print(a, b, c, sep='\\t')\n",
    "print(a, b, c, sep='\\n')"
   ]
  },
  {
   "cell_type": "code",
   "execution_count": 7,
   "id": "2f9841b7",
   "metadata": {},
   "outputs": [
    {
     "name": "stdout",
     "output_type": "stream",
     "text": [
      "1 2 3\n"
     ]
    }
   ],
   "source": [
    "#####\n",
    "print(a, end=' ')\n",
    "print(b, end=' ')\n",
    "print(c)"
   ]
  },
  {
   "cell_type": "markdown",
   "id": "2b057411",
   "metadata": {},
   "source": [
    "---"
   ]
  },
  {
   "cell_type": "markdown",
   "id": "a5ad993e",
   "metadata": {},
   "source": [
    "# 2. 변수입력과 연산자"
   ]
  },
  {
   "cell_type": "markdown",
   "id": "825de3c0",
   "metadata": {},
   "source": [
    "### input( ) \n",
    "문자열로 인식"
   ]
  },
  {
   "cell_type": "code",
   "execution_count": 16,
   "id": "441ea08c",
   "metadata": {},
   "outputs": [
    {
     "name": "stdout",
     "output_type": "stream",
     "text": [
      "2\n"
     ]
    },
    {
     "data": {
      "text/plain": [
       "'2'"
      ]
     },
     "execution_count": 16,
     "metadata": {},
     "output_type": "execute_result"
    }
   ],
   "source": [
    "input()"
   ]
  },
  {
   "cell_type": "code",
   "execution_count": 14,
   "id": "fe4d5ffa",
   "metadata": {},
   "outputs": [
    {
     "name": "stdout",
     "output_type": "stream",
     "text": [
      "1 2 3 4 5\n"
     ]
    },
    {
     "data": {
      "text/plain": [
       "'1 2 3 4 5'"
      ]
     },
     "execution_count": 14,
     "metadata": {},
     "output_type": "execute_result"
    }
   ],
   "source": [
    "input()"
   ]
  },
  {
   "cell_type": "code",
   "execution_count": 8,
   "id": "0fb534f2",
   "metadata": {},
   "outputs": [
    {
     "name": "stdout",
     "output_type": "stream",
     "text": [
      "숫자를 입력하세요 : 5\n",
      "5\n"
     ]
    }
   ],
   "source": [
    "a = input('숫자를 입력하세요 : ')\n",
    "print(a)"
   ]
  },
  {
   "cell_type": "code",
   "execution_count": 9,
   "id": "e5d54345",
   "metadata": {},
   "outputs": [
    {
     "name": "stdout",
     "output_type": "stream",
     "text": [
      "숫자를 입력하세요 : 2 3\n",
      "23\n",
      "\n",
      " <class 'str'> <class 'str'>\n"
     ]
    }
   ],
   "source": [
    "###\n",
    "\n",
    "a, b = input('숫자를 입력하세요 : ').split()  # 띄어쓰기로 구분하여 입력 \n",
    "\n",
    "print(a + b)  # 문자열로 입력됨 \n",
    "\n",
    "print('\\n', type(a), type(b))"
   ]
  },
  {
   "cell_type": "code",
   "execution_count": 10,
   "id": "d033ff73",
   "metadata": {},
   "outputs": [
    {
     "name": "stdout",
     "output_type": "stream",
     "text": [
      "숫자를 입력하세요 : 2, 3\n",
      "23\n",
      "23\n",
      "<class 'str'>\n"
     ]
    }
   ],
   "source": [
    "### \n",
    "\n",
    "a, b = input('숫자를 입력하세요 : ').split(', ')  # 컴마로 구분하여 입력 \n",
    "\n",
    "print(a + b) \n",
    "\n",
    "c = a+b \n",
    "print(c)\n",
    "print(type(c))\n"
   ]
  },
  {
   "cell_type": "code",
   "execution_count": 11,
   "id": "2a91d0a1",
   "metadata": {},
   "outputs": [
    {
     "name": "stdout",
     "output_type": "stream",
     "text": [
      "숫자를 입력하세요 : 2 3\n",
      "5\n"
     ]
    }
   ],
   "source": [
    "###\n",
    "\n",
    "a, b = input('숫자를 입력하세요 : ').split()  \n",
    "\n",
    "a = int(a)   # 정수형 변환 \n",
    "b = int(b)\n",
    "\n",
    "print(a+b)"
   ]
  },
  {
   "cell_type": "markdown",
   "id": "9e921e18",
   "metadata": {},
   "source": [
    "### split( ) \n",
    "문자열을 나누는 함수 > 리스트로 반환"
   ]
  },
  {
   "cell_type": "code",
   "execution_count": 15,
   "id": "5f67ffe5",
   "metadata": {},
   "outputs": [
    {
     "data": {
      "text/plain": [
       "['2', '3']"
      ]
     },
     "execution_count": 15,
     "metadata": {},
     "output_type": "execute_result"
    }
   ],
   "source": [
    "'2 3'.split()"
   ]
  },
  {
   "cell_type": "markdown",
   "id": "73be86b1",
   "metadata": {},
   "source": [
    " "
   ]
  },
  {
   "cell_type": "code",
   "execution_count": 17,
   "id": "9c89cd47",
   "metadata": {
    "scrolled": true
   },
   "outputs": [
    {
     "name": "stdout",
     "output_type": "stream",
     "text": [
      "숫자를 입력하세요 : 2 3\n"
     ]
    },
    {
     "data": {
      "text/plain": [
       "['2', '3']"
      ]
     },
     "execution_count": 17,
     "metadata": {},
     "output_type": "execute_result"
    }
   ],
   "source": [
    "input('숫자를 입력하세요 : ').split()"
   ]
  },
  {
   "cell_type": "code",
   "execution_count": 19,
   "id": "3d920e7d",
   "metadata": {},
   "outputs": [
    {
     "name": "stdout",
     "output_type": "stream",
     "text": [
      "숫자를 입력하세요 : 2 3 5\n",
      "10\n"
     ]
    }
   ],
   "source": [
    "##### \n",
    "\n",
    "a, b, c = map(int, input('숫자를 입력하세요 : ').split())  \n",
    "\n",
    "print(a+b+c)"
   ]
  },
  {
   "cell_type": "markdown",
   "id": "be645dee",
   "metadata": {},
   "source": [
    "### map(function, iterable)\n",
    "* 첫 번째 매개변수 : 함수\n",
    "* 두 번째 매개변수 : 반복 가능한 자료형 (리스트, 튜플 등)  \n",
    "\n",
    "map 함수의 반환 값은 map객체 이기 때문에 해당 자료형을 **list 혹은 tuple로 형 변환시켜주어야 함**"
   ]
  },
  {
   "cell_type": "code",
   "execution_count": 27,
   "id": "c3e56f04",
   "metadata": {},
   "outputs": [
    {
     "name": "stdout",
     "output_type": "stream",
     "text": [
      "숫자를 입력하세요 : 5 2\n",
      "7\n",
      "3\n",
      "10\n",
      "2.5 \n",
      "\n",
      "2\n",
      "1\n",
      "25\n"
     ]
    }
   ],
   "source": [
    "a, b = map(int, input('숫자를 입력하세요 : ').split())  \n",
    "\n",
    "print(a+b)\n",
    "print(a-b)\n",
    "print(a*b)\n",
    "print(a/b, '\\n')\n",
    "\n",
    "print(a//b)  # 몫 \n",
    "print(a%b)   # 나머지 \n",
    "print(a**b)  # power"
   ]
  },
  {
   "cell_type": "code",
   "execution_count": 28,
   "id": "7bc62f56",
   "metadata": {},
   "outputs": [
    {
     "name": "stdout",
     "output_type": "stream",
     "text": [
      "<class 'float'>\n"
     ]
    }
   ],
   "source": [
    "a = 4.3 \n",
    "b = 5\n",
    "c = a+b \n",
    "\n",
    "print(type(c))"
   ]
  },
  {
   "cell_type": "markdown",
   "id": "1e30efa7",
   "metadata": {},
   "source": [
    "---"
   ]
  },
  {
   "cell_type": "markdown",
   "id": "751ef3fa",
   "metadata": {},
   "source": [
    "# 3. 조건문 (if문, 다중 if문) "
   ]
  },
  {
   "cell_type": "code",
   "execution_count": 29,
   "id": "df95b177",
   "metadata": {},
   "outputs": [
    {
     "name": "stdout",
     "output_type": "stream",
     "text": [
      "Lucky!\n",
      "Woohyo~\n"
     ]
    }
   ],
   "source": [
    "x = 7 \n",
    "\n",
    "if x==7: \n",
    "    print('Lucky!')\n",
    "    print('Woohyo~')"
   ]
  },
  {
   "cell_type": "code",
   "execution_count": 31,
   "id": "b312f0eb",
   "metadata": {},
   "outputs": [
    {
     "name": "stdout",
     "output_type": "stream",
     "text": [
      "10 이상의 홀수\n"
     ]
    }
   ],
   "source": [
    "x = 15 \n",
    "\n",
    "if x >= 10: \n",
    "    if x%2 == 1: \n",
    "        print('10 이상의 홀수')"
   ]
  },
  {
   "cell_type": "code",
   "execution_count": 32,
   "id": "6e33add6",
   "metadata": {},
   "outputs": [
    {
     "name": "stdout",
     "output_type": "stream",
     "text": [
      "10 이상의 짝수\n"
     ]
    }
   ],
   "source": [
    "### 조건문 여러개 \n",
    "\n",
    "x = 18 \n",
    "\n",
    "if x >= 10: \n",
    "    if x%2 == 1: \n",
    "        print('10 이상의 홀수')\n",
    "    else: \n",
    "        print('10 이상의 짝수')"
   ]
  },
  {
   "cell_type": "code",
   "execution_count": 35,
   "id": "710ce719",
   "metadata": {},
   "outputs": [
    {
     "name": "stdout",
     "output_type": "stream",
     "text": [
      "해당 없음\n"
     ]
    }
   ],
   "source": [
    "x = 8 \n",
    "\n",
    "if x >= 10: \n",
    "    if x%2 == 1: \n",
    "        print('10 이상의 홀수')\n",
    "    else: \n",
    "        print('10 이상의 짝수')\n",
    "else:\n",
    "    print('해당 없음')"
   ]
  },
  {
   "cell_type": "code",
   "execution_count": 33,
   "id": "9750182d",
   "metadata": {},
   "outputs": [
    {
     "name": "stdout",
     "output_type": "stream",
     "text": [
      "10보다 작은 자연수\n"
     ]
    }
   ],
   "source": [
    "### 조건문 중첩 \n",
    "\n",
    "x = 9 \n",
    "\n",
    "if 0 < x < 10 and type(x)==int:\n",
    "    print('10보다 작은 자연수')"
   ]
  },
  {
   "cell_type": "code",
   "execution_count": 34,
   "id": "9e0acd5d",
   "metadata": {},
   "outputs": [
    {
     "name": "stdout",
     "output_type": "stream",
     "text": [
      "양수\n"
     ]
    }
   ],
   "source": [
    "### 다중 if문 \n",
    "\n",
    "x = 10 \n",
    "\n",
    "if x>0: \n",
    "    print('양수')\n",
    "elif x==0: \n",
    "    print('zero')\n",
    "else:\n",
    "    print('음수')"
   ]
  },
  {
   "cell_type": "code",
   "execution_count": 36,
   "id": "e651c545",
   "metadata": {},
   "outputs": [
    {
     "name": "stdout",
     "output_type": "stream",
     "text": [
      "B\n"
     ]
    }
   ],
   "source": [
    "x = 87\n",
    "\n",
    "if x>=90: \n",
    "    print('A')\n",
    "elif x >=80: \n",
    "    print('B')\n",
    "elif x >=70:\n",
    "    print('C')\n",
    "elif x >=60:\n",
    "    print('D')\n",
    "else:\n",
    "    print('F')"
   ]
  },
  {
   "cell_type": "markdown",
   "id": "91add495",
   "metadata": {},
   "source": [
    "---"
   ]
  },
  {
   "cell_type": "markdown",
   "id": "2a859762",
   "metadata": {},
   "source": [
    "# 4. 반복문 (for, while)"
   ]
  },
  {
   "cell_type": "code",
   "execution_count": 37,
   "id": "9e4a529f",
   "metadata": {},
   "outputs": [
    {
     "name": "stdout",
     "output_type": "stream",
     "text": [
      "[0, 1, 2, 3, 4, 5, 6, 7, 8, 9]\n"
     ]
    }
   ],
   "source": [
    "a = range(10)\n",
    "print(list(a))"
   ]
  },
  {
   "cell_type": "code",
   "execution_count": 38,
   "id": "2396b761",
   "metadata": {},
   "outputs": [
    {
     "name": "stdout",
     "output_type": "stream",
     "text": [
      "[1, 2, 3, 4, 5, 6, 7, 8, 9, 10]\n"
     ]
    }
   ],
   "source": [
    "a = range(1, 11)\n",
    "print(list(a))"
   ]
  },
  {
   "cell_type": "markdown",
   "id": "fab55906",
   "metadata": {},
   "source": [
    " "
   ]
  },
  {
   "cell_type": "code",
   "execution_count": 39,
   "id": "b7d7365c",
   "metadata": {},
   "outputs": [
    {
     "name": "stdout",
     "output_type": "stream",
     "text": [
      "hello\n",
      "hello\n",
      "hello\n",
      "hello\n",
      "hello\n",
      "hello\n",
      "hello\n",
      "hello\n",
      "hello\n",
      "hello\n"
     ]
    }
   ],
   "source": [
    "for i in range(10):\n",
    "    print('hello')"
   ]
  },
  {
   "cell_type": "code",
   "execution_count": 47,
   "id": "d11765cf",
   "metadata": {},
   "outputs": [
    {
     "name": "stdout",
     "output_type": "stream",
     "text": [
      "0\n",
      "1\n",
      "2\n",
      "3\n",
      "4\n",
      "5\n",
      "6\n",
      "7\n",
      "8\n",
      "9\n"
     ]
    }
   ],
   "source": [
    "for i in range(10):\n",
    "    print(i)"
   ]
  },
  {
   "cell_type": "code",
   "execution_count": 46,
   "id": "271f511f",
   "metadata": {},
   "outputs": [
    {
     "name": "stdout",
     "output_type": "stream",
     "text": [
      "0\n",
      "2\n",
      "4\n",
      "6\n",
      "8\n"
     ]
    }
   ],
   "source": [
    "for i in range(0, 10, 2):\n",
    "    print(i)"
   ]
  },
  {
   "cell_type": "code",
   "execution_count": 41,
   "id": "c60da09c",
   "metadata": {},
   "outputs": [],
   "source": [
    "for i in range(10, 0):   # 감소하려면 인자 더 필요함 \n",
    "    print(i)"
   ]
  },
  {
   "cell_type": "code",
   "execution_count": 42,
   "id": "6f7efb9e",
   "metadata": {},
   "outputs": [
    {
     "name": "stdout",
     "output_type": "stream",
     "text": [
      "10\n",
      "8\n",
      "6\n",
      "4\n",
      "2\n"
     ]
    }
   ],
   "source": [
    "#####\n",
    "\n",
    "for i in range(10, 0, -2):   # 2 간격으로 감소\n",
    "    print(i)"
   ]
  },
  {
   "cell_type": "code",
   "execution_count": 43,
   "id": "b84bf8cc",
   "metadata": {},
   "outputs": [
    {
     "name": "stdout",
     "output_type": "stream",
     "text": [
      "1\n",
      "2\n",
      "3\n",
      "4\n",
      "5\n",
      "6\n",
      "7\n",
      "8\n",
      "9\n",
      "10\n"
     ]
    }
   ],
   "source": [
    "i = 1\n",
    "\n",
    "while i <= 10: \n",
    "    print(i) \n",
    "    i = i+1 "
   ]
  },
  {
   "cell_type": "code",
   "execution_count": 48,
   "id": "3020b04b",
   "metadata": {},
   "outputs": [
    {
     "name": "stdout",
     "output_type": "stream",
     "text": [
      "10\n",
      "9\n",
      "8\n",
      "7\n",
      "6\n",
      "5\n",
      "4\n",
      "3\n",
      "2\n",
      "1\n"
     ]
    }
   ],
   "source": [
    "i = 10\n",
    "\n",
    "while i >= 1: \n",
    "    print(i) \n",
    "    i = i-1 "
   ]
  },
  {
   "cell_type": "markdown",
   "id": "fa2741d5",
   "metadata": {},
   "source": [
    "### break"
   ]
  },
  {
   "cell_type": "code",
   "execution_count": 49,
   "id": "bb39e607",
   "metadata": {},
   "outputs": [
    {
     "name": "stdout",
     "output_type": "stream",
     "text": [
      "1\n",
      "2\n",
      "3\n",
      "4\n",
      "5\n",
      "6\n",
      "7\n",
      "8\n",
      "9\n",
      "10\n"
     ]
    }
   ],
   "source": [
    "i = 1\n",
    "\n",
    "while True: \n",
    "    print(i)\n",
    "    if i==10:\n",
    "        break\n",
    "    i += 1"
   ]
  },
  {
   "cell_type": "code",
   "execution_count": 51,
   "id": "7b90e73d",
   "metadata": {},
   "outputs": [
    {
     "name": "stdout",
     "output_type": "stream",
     "text": [
      "1\n",
      "2\n",
      "3\n",
      "4\n",
      "5\n",
      "6\n",
      "7\n",
      "8\n",
      "9\n",
      "10\n",
      "end\n"
     ]
    }
   ],
   "source": [
    "for i in range(1, 11):\n",
    "    print(i) \n",
    "else: \n",
    "    print('end')"
   ]
  },
  {
   "cell_type": "code",
   "execution_count": 52,
   "id": "1ca6c94b",
   "metadata": {},
   "outputs": [
    {
     "name": "stdout",
     "output_type": "stream",
     "text": [
      "1\n",
      "2\n",
      "3\n",
      "4\n",
      "5\n"
     ]
    }
   ],
   "source": [
    "for i in range(1, 11):\n",
    "    print(i) \n",
    "    if i==5: \n",
    "        break\n",
    "else: \n",
    "    print(11)     # break으로 반복문 탈출하였으므로 실행 X "
   ]
  },
  {
   "cell_type": "markdown",
   "id": "a2cc07e3",
   "metadata": {},
   "source": [
    "### continue"
   ]
  },
  {
   "cell_type": "code",
   "execution_count": 53,
   "id": "bedd2849",
   "metadata": {},
   "outputs": [
    {
     "name": "stdout",
     "output_type": "stream",
     "text": [
      "1\n",
      "3\n",
      "5\n",
      "7\n",
      "9\n"
     ]
    }
   ],
   "source": [
    "for i in range(1, 11):\n",
    "    if i%2==0: \n",
    "        continue  # 밑에 있는 명령들 실행 안하고 for문으로 돌아감\n",
    "    print(i)     \n",
    "    "
   ]
  },
  {
   "cell_type": "markdown",
   "id": "1e9f695f",
   "metadata": {},
   "source": [
    "---"
   ]
  },
  {
   "cell_type": "markdown",
   "id": "5d84102b",
   "metadata": {},
   "source": [
    "# 5. 반복문을 이용한 문제 풀이"
   ]
  },
  {
   "cell_type": "markdown",
   "id": "24ae4e93",
   "metadata": {},
   "source": [
    "### 5-1) 1부터 N까지 홀수 출력"
   ]
  },
  {
   "cell_type": "code",
   "execution_count": 56,
   "id": "17308bf6",
   "metadata": {
    "scrolled": true
   },
   "outputs": [
    {
     "name": "stdout",
     "output_type": "stream",
     "text": [
      "N = 17\n",
      "1\n",
      "3\n",
      "5\n",
      "7\n",
      "9\n",
      "11\n",
      "13\n",
      "15\n",
      "17\n"
     ]
    }
   ],
   "source": [
    "n = int(input('N = '))\n",
    "\n",
    "for i in range(1, n+1):\n",
    "    if i%2 == 1:\n",
    "        print(i)"
   ]
  },
  {
   "cell_type": "markdown",
   "id": "e5614795",
   "metadata": {},
   "source": [
    "### 5-2) 1부터 N까지의 합 "
   ]
  },
  {
   "cell_type": "code",
   "execution_count": 103,
   "id": "73c75152",
   "metadata": {},
   "outputs": [
    {
     "name": "stdout",
     "output_type": "stream",
     "text": [
      "N = 100\n",
      "5050\n"
     ]
    }
   ],
   "source": [
    "n = int(input('N = '))\n",
    "sm = 0\n",
    "\n",
    "for i in range(1, n+1):\n",
    "    sm += i\n",
    "    \n",
    "print(sm)"
   ]
  },
  {
   "cell_type": "markdown",
   "id": "ad656a3d",
   "metadata": {},
   "source": [
    "### 5-3) N의 약수 출력"
   ]
  },
  {
   "cell_type": "code",
   "execution_count": 60,
   "id": "c254d47d",
   "metadata": {},
   "outputs": [
    {
     "name": "stdout",
     "output_type": "stream",
     "text": [
      "N = 18\n",
      "18의 약수 : 1 2 3 6 9 18 "
     ]
    }
   ],
   "source": [
    "n = int(input('N = ')) \n",
    "\n",
    "print(str(n)+'의 약수 : ', end='')\n",
    "\n",
    "for i in range(1, n+1):\n",
    "    if n%i==0:\n",
    "        print(i, end=' ')"
   ]
  },
  {
   "cell_type": "markdown",
   "id": "afb79114",
   "metadata": {},
   "source": [
    "---"
   ]
  },
  {
   "cell_type": "markdown",
   "id": "c2eca374",
   "metadata": {},
   "source": [
    "# 6. 중첩 반복문 (2중 for문)"
   ]
  },
  {
   "cell_type": "code",
   "execution_count": 61,
   "id": "39147ace",
   "metadata": {},
   "outputs": [
    {
     "name": "stdout",
     "output_type": "stream",
     "text": [
      "i=0 j:0 j:1 j:2 j:3 j:4 \n",
      "i=1 j:0 j:1 j:2 j:3 j:4 \n",
      "i=2 j:0 j:1 j:2 j:3 j:4 \n",
      "i=3 j:0 j:1 j:2 j:3 j:4 \n",
      "i=4 j:0 j:1 j:2 j:3 j:4 \n"
     ]
    }
   ],
   "source": [
    "for i in range(5):\n",
    "    print('i=', i, sep='', end=' ')\n",
    "    for j in range(5):\n",
    "        print('j:', j, sep='', end=' ')\n",
    "        \n",
    "    print()   # 줄바꿈 "
   ]
  },
  {
   "cell_type": "code",
   "execution_count": 117,
   "id": "8816bf34",
   "metadata": {},
   "outputs": [
    {
     "name": "stdout",
     "output_type": "stream",
     "text": [
      "* \n",
      "* * \n",
      "* * * \n",
      "* * * * \n",
      "* * * * * \n"
     ]
    }
   ],
   "source": [
    "for i in range(5):\n",
    "    for j in range(i+1):\n",
    "        print('*', end=' ')\n",
    "        \n",
    "    print()   # 줄바꿈 "
   ]
  },
  {
   "cell_type": "code",
   "execution_count": 62,
   "id": "337a5c11",
   "metadata": {},
   "outputs": [
    {
     "name": "stdout",
     "output_type": "stream",
     "text": [
      "* * * * * \n",
      "* * * * \n",
      "* * * \n",
      "* * \n",
      "* \n"
     ]
    }
   ],
   "source": [
    "for i in range(5, 0, -1):\n",
    "    for j in range(i):\n",
    "        print('*', end=' ')\n",
    "        \n",
    "    print() "
   ]
  },
  {
   "cell_type": "code",
   "execution_count": 63,
   "id": "9836e77c",
   "metadata": {},
   "outputs": [
    {
     "name": "stdout",
     "output_type": "stream",
     "text": [
      "* * * * * \n",
      "* * * * \n",
      "* * * \n",
      "* * \n",
      "* \n"
     ]
    }
   ],
   "source": [
    "for i in range(5):\n",
    "    for j in range(5-i):\n",
    "        print('*', end=' ')\n",
    "        \n",
    "    print() "
   ]
  },
  {
   "cell_type": "code",
   "execution_count": 65,
   "id": "b3eca49c",
   "metadata": {},
   "outputs": [
    {
     "name": "stdout",
     "output_type": "stream",
     "text": [
      "줄 갯수 :10\n",
      "                    * \n",
      "                  * * * \n",
      "                * * * * * \n",
      "              * * * * * * * \n",
      "            * * * * * * * * * \n",
      "          * * * * * * * * * * * \n",
      "        * * * * * * * * * * * * * \n",
      "      * * * * * * * * * * * * * * * \n",
      "    * * * * * * * * * * * * * * * * * \n",
      "  * * * * * * * * * * * * * * * * * * * \n"
     ]
    }
   ],
   "source": [
    "x = int(input('줄 갯수 :'))\n",
    "\n",
    "for i in range(x):\n",
    "    for j in range(x-i):\n",
    "        print(' ', end=' ')\n",
    "    for k in range(2*i+1): \n",
    "        print('*', end=' ')\n",
    "    print()"
   ]
  },
  {
   "cell_type": "markdown",
   "id": "0fe202ce",
   "metadata": {},
   "source": [
    "---"
   ]
  },
  {
   "cell_type": "markdown",
   "id": "12a0bbc7",
   "metadata": {},
   "source": [
    "# 7. 문자열과 내장함수"
   ]
  },
  {
   "cell_type": "markdown",
   "id": "f0c25471",
   "metadata": {},
   "source": [
    "### .upper( ) / .lower( ) \n",
    "모두 대문자 / 소문자로"
   ]
  },
  {
   "cell_type": "code",
   "execution_count": 66,
   "id": "b82c983a",
   "metadata": {},
   "outputs": [
    {
     "name": "stdout",
     "output_type": "stream",
     "text": [
      "IT IS TIME\n",
      "it is time\n",
      "It is Time\n"
     ]
    }
   ],
   "source": [
    "msg = 'It is Time'\n",
    "\n",
    "print(msg.upper())   # 문자열 모두 대문자로 / 원본 변경 X \n",
    "print(msg.lower())   # 문자열 모두 소문자로 \n",
    "\n",
    "print(msg)"
   ]
  },
  {
   "cell_type": "markdown",
   "id": "477180a6",
   "metadata": {},
   "source": [
    "### .find( ) \n",
    "해당 문자의 첫 인덱스 반환 \n",
    "\n",
    "### .count( ) \n",
    "해당 문자의 등장 횟수 반환"
   ]
  },
  {
   "cell_type": "code",
   "execution_count": 70,
   "id": "cef345ab",
   "metadata": {},
   "outputs": [
    {
     "name": "stdout",
     "output_type": "stream",
     "text": [
      "IT IS TIME\n",
      "4\n",
      "S\n",
      "2\n"
     ]
    }
   ],
   "source": [
    "tmp = msg.upper()\n",
    "\n",
    "print(tmp)\n",
    "\n",
    "print(tmp.find('S'))  # 'S'의 첫 인덱스 번호 \n",
    "print(tmp[4]) \n",
    "\n",
    "print(tmp.count('T'))  # 'T'의 등장 횟수 "
   ]
  },
  {
   "cell_type": "code",
   "execution_count": 71,
   "id": "a7b7373a",
   "metadata": {},
   "outputs": [
    {
     "name": "stdout",
     "output_type": "stream",
     "text": [
      "It is Time \n",
      "\n",
      "It\n",
      "is\n",
      "Time\n",
      "10\n"
     ]
    }
   ],
   "source": [
    "print(msg, '\\n')\n",
    "\n",
    "print(msg[:2])\n",
    "print(msg[3:5])\n",
    "print(msg[6:])\n",
    "\n",
    "print(len(msg)) "
   ]
  },
  {
   "cell_type": "code",
   "execution_count": 72,
   "id": "8e68db61",
   "metadata": {},
   "outputs": [
    {
     "name": "stdout",
     "output_type": "stream",
     "text": [
      "I t   i s   T i m e \n",
      "I t   i s   T i m e "
     ]
    }
   ],
   "source": [
    "for i in range(len(msg)):\n",
    "    print(msg[i], end=' ')\n",
    "    \n",
    "print()\n",
    "\n",
    "for i in msg:\n",
    "    print(i, end=' ')"
   ]
  },
  {
   "cell_type": "markdown",
   "id": "c33fe9c1",
   "metadata": {},
   "source": [
    "### .isupper( ) / .islower( ) / .isalpha( ) \n",
    "대문자인지 / 소문자인지 / 알파벳인지 (bool)"
   ]
  },
  {
   "cell_type": "code",
   "execution_count": 73,
   "id": "2d7efa79",
   "metadata": {},
   "outputs": [
    {
     "name": "stdout",
     "output_type": "stream",
     "text": [
      "I T "
     ]
    }
   ],
   "source": [
    "for i in msg:\n",
    "    if i.isupper():   # 대문자인지 TF \n",
    "        print(i, end=' ')"
   ]
  },
  {
   "cell_type": "code",
   "execution_count": 74,
   "id": "34b66079",
   "metadata": {},
   "outputs": [
    {
     "name": "stdout",
     "output_type": "stream",
     "text": [
      "t i s i m e "
     ]
    }
   ],
   "source": [
    "for i in msg:\n",
    "    if i.islower():   # 소문자인지 TF \n",
    "        print(i, end=' ')"
   ]
  },
  {
   "cell_type": "code",
   "execution_count": 75,
   "id": "54fdee0c",
   "metadata": {},
   "outputs": [
    {
     "name": "stdout",
     "output_type": "stream",
     "text": [
      "I t i s T i m e "
     ]
    }
   ],
   "source": [
    "for i in msg:\n",
    "    if i.isalpha():   # 알파벳인지 TF \n",
    "        print(i, end=' ')"
   ]
  },
  {
   "cell_type": "markdown",
   "id": "b0d944d9",
   "metadata": {},
   "source": [
    "### ord \n",
    "문자의 유니코드 값을 돌려주는 함수"
   ]
  },
  {
   "cell_type": "code",
   "execution_count": 76,
   "id": "78af9242",
   "metadata": {},
   "outputs": [
    {
     "name": "stdout",
     "output_type": "stream",
     "text": [
      "97\n",
      "122\n",
      "65\n",
      "90\n"
     ]
    }
   ],
   "source": [
    "tmp = 'azAZ'\n",
    "\n",
    "for i in tmp:\n",
    "    print(ord(i)) "
   ]
  },
  {
   "cell_type": "markdown",
   "id": "c25af46d",
   "metadata": {},
   "source": [
    "### chr \n",
    "ord 함수의 반대"
   ]
  },
  {
   "cell_type": "code",
   "execution_count": 77,
   "id": "dee9c574",
   "metadata": {},
   "outputs": [
    {
     "name": "stdout",
     "output_type": "stream",
     "text": [
      "A\n"
     ]
    }
   ],
   "source": [
    "tmp = 65 \n",
    "\n",
    "print(chr(tmp))"
   ]
  },
  {
   "cell_type": "markdown",
   "id": "58e62fbb",
   "metadata": {},
   "source": [
    "---\n",
    "\n",
    "# 8. 리스트와 내장함수 (1)"
   ]
  },
  {
   "cell_type": "code",
   "execution_count": 79,
   "id": "abe9a506",
   "metadata": {},
   "outputs": [
    {
     "name": "stdout",
     "output_type": "stream",
     "text": [
      "[]\n",
      "[]\n"
     ]
    }
   ],
   "source": [
    "# 빈 리스트 \n",
    "a = []\n",
    "print(a) \n",
    "\n",
    "b = list() \n",
    "print(b)"
   ]
  },
  {
   "cell_type": "code",
   "execution_count": 82,
   "id": "7cc6393d",
   "metadata": {},
   "outputs": [
    {
     "name": "stdout",
     "output_type": "stream",
     "text": [
      "[1, 2, 3, 4, 5]\n",
      "5\n"
     ]
    }
   ],
   "source": [
    "a = [1, 2, 3, 4, 5]\n",
    "print(a)\n",
    "print(a[4])"
   ]
  },
  {
   "cell_type": "code",
   "execution_count": 85,
   "id": "a7a49807",
   "metadata": {},
   "outputs": [
    {
     "name": "stdout",
     "output_type": "stream",
     "text": [
      "[1, 2, 3, 4, 5, 6, 7, 8, 9, 10]\n",
      "10\n"
     ]
    }
   ],
   "source": [
    "b = list(range(1, 11))\n",
    "print(b)\n",
    "print(b[9])"
   ]
  },
  {
   "cell_type": "code",
   "execution_count": 86,
   "id": "5ae55a77",
   "metadata": {},
   "outputs": [
    {
     "name": "stdout",
     "output_type": "stream",
     "text": [
      "[1, 2, 3, 4, 5, 1, 2, 3, 4, 5, 6, 7, 8, 9, 10]\n"
     ]
    }
   ],
   "source": [
    "c = a+b\n",
    "print(c)"
   ]
  },
  {
   "cell_type": "markdown",
   "id": "7beca629",
   "metadata": {},
   "source": [
    "### append( ) / insert( ) "
   ]
  },
  {
   "cell_type": "code",
   "execution_count": 87,
   "id": "4d6d3e82",
   "metadata": {},
   "outputs": [
    {
     "name": "stdout",
     "output_type": "stream",
     "text": [
      "[1, 2, 3, 4, 5, 6]\n"
     ]
    }
   ],
   "source": [
    "a.append(6)\n",
    "print(a)"
   ]
  },
  {
   "cell_type": "code",
   "execution_count": 88,
   "id": "c4ae3a79",
   "metadata": {},
   "outputs": [
    {
     "name": "stdout",
     "output_type": "stream",
     "text": [
      "[1, 2, 3, 7, 4, 5, 6]\n"
     ]
    }
   ],
   "source": [
    "a.insert(3, 7)     # 3번 인덱스에 7 삽입 \n",
    "print(a)"
   ]
  },
  {
   "cell_type": "markdown",
   "id": "ea256d85",
   "metadata": {},
   "source": [
    "### pop( ) / remove( ) \n",
    "인덱스 원소 제거 / 해당 값 제거"
   ]
  },
  {
   "cell_type": "code",
   "execution_count": 89,
   "id": "3d973038",
   "metadata": {},
   "outputs": [
    {
     "name": "stdout",
     "output_type": "stream",
     "text": [
      "[1, 2, 3, 7, 4, 5]\n"
     ]
    }
   ],
   "source": [
    "a.pop()   # 맨 뒤 원소 제거 (인덱스 지정하여 제거 가능) \n",
    "print(a)"
   ]
  },
  {
   "cell_type": "code",
   "execution_count": 90,
   "id": "f903c611",
   "metadata": {},
   "outputs": [
    {
     "name": "stdout",
     "output_type": "stream",
     "text": [
      "[1, 2, 3, 4, 5]\n"
     ]
    }
   ],
   "source": [
    "a.pop(3)  # index 3번 제거 \n",
    "print(a)"
   ]
  },
  {
   "cell_type": "code",
   "execution_count": 91,
   "id": "15409c04",
   "metadata": {},
   "outputs": [
    {
     "name": "stdout",
     "output_type": "stream",
     "text": [
      "[1, 2, 3, 5]\n"
     ]
    }
   ],
   "source": [
    "a.remove(4)\n",
    "print(a)"
   ]
  },
  {
   "cell_type": "markdown",
   "id": "7de3090c",
   "metadata": {},
   "source": [
    "### index( ) \n",
    "해당 값의 인덱스 반환"
   ]
  },
  {
   "cell_type": "code",
   "execution_count": 93,
   "id": "9e2e8322",
   "metadata": {},
   "outputs": [
    {
     "name": "stdout",
     "output_type": "stream",
     "text": [
      "[1, 2, 3, 5]\n",
      "3\n"
     ]
    }
   ],
   "source": [
    "print(a)\n",
    "print(a.index(5))"
   ]
  },
  {
   "cell_type": "markdown",
   "id": "8e04cca4",
   "metadata": {},
   "source": [
    "### sum( ) \n",
    "리스트 원소 합 "
   ]
  },
  {
   "cell_type": "code",
   "execution_count": 112,
   "id": "e0bee523",
   "metadata": {},
   "outputs": [
    {
     "name": "stdout",
     "output_type": "stream",
     "text": [
      "[1, 2, 3, 4, 5, 6, 7, 8, 9, 10]\n",
      "55\n",
      "10\n",
      "1 \n",
      "\n",
      "3\n"
     ]
    }
   ],
   "source": [
    "a = list(range(1, 11))\n",
    "\n",
    "print(a)\n",
    "print(sum(a))\n",
    "print(max(a))\n",
    "print(min(a), '\\n')\n",
    "\n",
    "print(min(7, 3, 5))"
   ]
  },
  {
   "cell_type": "markdown",
   "id": "d060a246",
   "metadata": {},
   "source": [
    "### random.shuffle( ) \n",
    "임의로 순서 섞음 "
   ]
  },
  {
   "cell_type": "code",
   "execution_count": 114,
   "id": "9de009fc",
   "metadata": {},
   "outputs": [
    {
     "name": "stdout",
     "output_type": "stream",
     "text": [
      "[8, 9, 6, 3, 5, 4, 7, 10, 1, 2]\n"
     ]
    }
   ],
   "source": [
    "import random as r\n",
    "\n",
    "r.shuffle(a)\n",
    "print(a)"
   ]
  },
  {
   "cell_type": "markdown",
   "id": "4ffd1ac2",
   "metadata": {},
   "source": [
    "### .sort( ) \n",
    "정렬 (디폴트는 오름차순)  \n",
    "reverse = True : 내림차순"
   ]
  },
  {
   "cell_type": "code",
   "execution_count": 115,
   "id": "aa7b0a2d",
   "metadata": {},
   "outputs": [
    {
     "name": "stdout",
     "output_type": "stream",
     "text": [
      "[1, 2, 3, 4, 5, 6, 7, 8, 9, 10]\n"
     ]
    }
   ],
   "source": [
    "a.sort()\n",
    "print(a)"
   ]
  },
  {
   "cell_type": "code",
   "execution_count": 117,
   "id": "dbc070d1",
   "metadata": {},
   "outputs": [
    {
     "name": "stdout",
     "output_type": "stream",
     "text": [
      "[10, 9, 8, 7, 6, 5, 4, 3, 2, 1]\n"
     ]
    }
   ],
   "source": [
    "a.sort(reverse=True) \n",
    "print(a)"
   ]
  },
  {
   "cell_type": "markdown",
   "id": "fa6faebd",
   "metadata": {},
   "source": [
    "### .clear( ) \n",
    "리스트 원소 제거"
   ]
  },
  {
   "cell_type": "code",
   "execution_count": 118,
   "id": "a574adf8",
   "metadata": {},
   "outputs": [
    {
     "name": "stdout",
     "output_type": "stream",
     "text": [
      "[]\n"
     ]
    }
   ],
   "source": [
    "a.clear() \n",
    "print(a) "
   ]
  },
  {
   "cell_type": "markdown",
   "id": "fe6125e5",
   "metadata": {},
   "source": [
    "---\n",
    "\n",
    "# 9. 리스트와 내장함수 (2) "
   ]
  },
  {
   "cell_type": "markdown",
   "id": "da92b1c8",
   "metadata": {},
   "source": [
    "### Slicing"
   ]
  },
  {
   "cell_type": "code",
   "execution_count": 126,
   "id": "868ab3c4",
   "metadata": {},
   "outputs": [
    {
     "name": "stdout",
     "output_type": "stream",
     "text": [
      "[23, 12, 36, 53, 19] \n",
      "\n",
      "[23, 12, 36]\n",
      "[12, 36, 53]\n",
      "5\n"
     ]
    }
   ],
   "source": [
    "a = [23, 12, 36, 53, 19]\n",
    "print(a, '\\n')\n",
    "\n",
    "print(a[:3])\n",
    "print(a[1:4])\n",
    "print(len(a))"
   ]
  },
  {
   "cell_type": "code",
   "execution_count": 124,
   "id": "1324896e",
   "metadata": {},
   "outputs": [
    {
     "name": "stdout",
     "output_type": "stream",
     "text": [
      "23 12 36 53 19 \n",
      "23 12 36 53 19 "
     ]
    }
   ],
   "source": [
    "for i in range(len(a)):\n",
    "    print(a[i], end=' ')\n",
    "    \n",
    "print()\n",
    "\n",
    "for i in a: \n",
    "    print(i, end=' ')"
   ]
  },
  {
   "cell_type": "code",
   "execution_count": 125,
   "id": "50eef974",
   "metadata": {},
   "outputs": [
    {
     "name": "stdout",
     "output_type": "stream",
     "text": [
      "23 53 19 "
     ]
    }
   ],
   "source": [
    "for i in a: \n",
    "    if i%2==1:\n",
    "        print(i, end=' ')"
   ]
  },
  {
   "cell_type": "markdown",
   "id": "a815262d",
   "metadata": {},
   "source": [
    " "
   ]
  },
  {
   "cell_type": "markdown",
   "id": "ce2a4054",
   "metadata": {},
   "source": [
    "## enumerate( ) \n",
    "**인덱스 번호와 원소 값까지 동시에 접근**  \n",
    "튜플 형태로 쪼갬"
   ]
  },
  {
   "cell_type": "code",
   "execution_count": 128,
   "id": "9b9c9951",
   "metadata": {},
   "outputs": [
    {
     "name": "stdout",
     "output_type": "stream",
     "text": [
      "[23, 12, 36, 53, 19] \n",
      "\n",
      "(0, 23)\n",
      "(1, 12)\n",
      "(2, 36)\n",
      "(3, 53)\n",
      "(4, 19)\n"
     ]
    }
   ],
   "source": [
    "a = [23, 12, 36, 53, 19]\n",
    "print(a, '\\n')\n",
    "\n",
    "for x in enumerate(a): \n",
    "    print(x)"
   ]
  },
  {
   "cell_type": "code",
   "execution_count": 132,
   "id": "8ede3e48",
   "metadata": {},
   "outputs": [
    {
     "name": "stdout",
     "output_type": "stream",
     "text": [
      "0 23\n",
      "1 12\n",
      "2 36\n",
      "3 53\n",
      "4 19\n"
     ]
    }
   ],
   "source": [
    "for x in enumerate(a): \n",
    "    print(x[0], x[1])"
   ]
  },
  {
   "cell_type": "code",
   "execution_count": 134,
   "id": "4b0eaee6",
   "metadata": {},
   "outputs": [
    {
     "name": "stdout",
     "output_type": "stream",
     "text": [
      "0 23\n",
      "1 12\n",
      "2 36\n",
      "3 53\n",
      "4 19\n"
     ]
    }
   ],
   "source": [
    "### 가장 많이 사용하는 방식 \n",
    "\n",
    "for ind, val in enumerate(a):\n",
    "    print(ind, val)"
   ]
  },
  {
   "cell_type": "markdown",
   "id": "70e4d908",
   "metadata": {},
   "source": [
    "### tuple\n",
    "튜플의 원소는 변경 불가능"
   ]
  },
  {
   "cell_type": "code",
   "execution_count": 130,
   "id": "f0e30833",
   "metadata": {},
   "outputs": [
    {
     "name": "stdout",
     "output_type": "stream",
     "text": [
      "(1, 2, 3, 4, 5)\n",
      "1\n"
     ]
    }
   ],
   "source": [
    "b = (1, 2, 3, 4, 5) \n",
    "print(b)\n",
    "print(b[0])"
   ]
  },
  {
   "cell_type": "code",
   "execution_count": 131,
   "id": "c097b1e2",
   "metadata": {},
   "outputs": [
    {
     "ename": "TypeError",
     "evalue": "'tuple' object does not support item assignment",
     "output_type": "error",
     "traceback": [
      "\u001b[0;31m---------------------------------------------------------------------------\u001b[0m",
      "\u001b[0;31mTypeError\u001b[0m                                 Traceback (most recent call last)",
      "\u001b[0;32m/var/folders/83/dn38gtrd2mqggjc6qdzm94_w0000gn/T/ipykernel_1852/4132595814.py\u001b[0m in \u001b[0;36m<module>\u001b[0;34m\u001b[0m\n\u001b[0;32m----> 1\u001b[0;31m \u001b[0mb\u001b[0m\u001b[0;34m[\u001b[0m\u001b[0;36m0\u001b[0m\u001b[0;34m]\u001b[0m \u001b[0;34m=\u001b[0m \u001b[0;36m7\u001b[0m   \u001b[0;31m### 튜플 원소는 변경 불가능\u001b[0m\u001b[0;34m\u001b[0m\u001b[0;34m\u001b[0m\u001b[0m\n\u001b[0m",
      "\u001b[0;31mTypeError\u001b[0m: 'tuple' object does not support item assignment"
     ]
    }
   ],
   "source": [
    "b[0] = 7   ### 튜플 원소는 변경 불가능"
   ]
  },
  {
   "cell_type": "markdown",
   "id": "03a9194f",
   "metadata": {},
   "source": [
    "  "
   ]
  },
  {
   "cell_type": "markdown",
   "id": "295df579",
   "metadata": {},
   "source": [
    "### all( ) / any( ) \n",
    "모두 참이어야 True / 하나라도 참이면 True"
   ]
  },
  {
   "cell_type": "code",
   "execution_count": 135,
   "id": "b4a2ac52",
   "metadata": {},
   "outputs": [
    {
     "name": "stdout",
     "output_type": "stream",
     "text": [
      "[23, 12, 36, 53, 19] \n",
      "\n",
      "YES\n"
     ]
    }
   ],
   "source": [
    "a = [23, 12, 36, 53, 19]\n",
    "print(a, '\\n')\n",
    "\n",
    "if all(x<60 for x in a): \n",
    "    print('YES')\n",
    "else:\n",
    "    print('NO')"
   ]
  },
  {
   "cell_type": "code",
   "execution_count": 137,
   "id": "149bcea5",
   "metadata": {},
   "outputs": [
    {
     "name": "stdout",
     "output_type": "stream",
     "text": [
      "NO\n"
     ]
    }
   ],
   "source": [
    "if all(x<50 for x in a):   # 모든 조건 만족 X \n",
    "    print('YES')\n",
    "else:\n",
    "    print('NO')"
   ]
  },
  {
   "cell_type": "code",
   "execution_count": 138,
   "id": "9f630de1",
   "metadata": {},
   "outputs": [
    {
     "name": "stdout",
     "output_type": "stream",
     "text": [
      "YES\n"
     ]
    }
   ],
   "source": [
    "if any(x>50 for x in a):\n",
    "    print('YES')\n",
    "else:\n",
    "    print('NO')"
   ]
  },
  {
   "cell_type": "code",
   "execution_count": 139,
   "id": "289c7cfa",
   "metadata": {},
   "outputs": [
    {
     "name": "stdout",
     "output_type": "stream",
     "text": [
      "NO\n"
     ]
    }
   ],
   "source": [
    "if any(x>60 for x in a):\n",
    "    print('YES')\n",
    "else:\n",
    "    print('NO')"
   ]
  },
  {
   "cell_type": "markdown",
   "id": "194efb37",
   "metadata": {},
   "source": [
    "---"
   ]
  },
  {
   "cell_type": "markdown",
   "id": "79abddfd",
   "metadata": {},
   "source": [
    "# 10. 2차원 리스트 생성과 접근 "
   ]
  },
  {
   "cell_type": "code",
   "execution_count": 142,
   "id": "0e58ce11",
   "metadata": {},
   "outputs": [
    {
     "name": "stdout",
     "output_type": "stream",
     "text": [
      "[0, 0, 0]\n"
     ]
    }
   ],
   "source": [
    "a = [0]*3 \n",
    "print(a)"
   ]
  },
  {
   "cell_type": "markdown",
   "id": "2f0f8af6",
   "metadata": {},
   "source": [
    "### 2차원 리스트 [[ ]] \n",
    "표 형태로 접근하는 것이 편함 (행과 열) "
   ]
  },
  {
   "cell_type": "code",
   "execution_count": 149,
   "id": "dd7938ef",
   "metadata": {},
   "outputs": [
    {
     "name": "stdout",
     "output_type": "stream",
     "text": [
      "[[1, 2, 3], [1, 2, 3], [1, 2, 3]] \n",
      "\n",
      "2\n",
      "1\n"
     ]
    }
   ],
   "source": [
    "a = [ [1,2,3] for _ in range(3) ]\n",
    "\n",
    "print(a, '\\n') \n",
    "\n",
    "print(a[0][1])\n",
    "print(a[1][0])"
   ]
  },
  {
   "cell_type": "code",
   "execution_count": 151,
   "id": "db93199f",
   "metadata": {},
   "outputs": [
    {
     "name": "stdout",
     "output_type": "stream",
     "text": [
      "[[2, 3], [3, 4, 5], [4, 5, 6, 7]] \n",
      "\n",
      "3\n",
      "7\n"
     ]
    }
   ],
   "source": [
    "b = [ list(range(i, 2*i)) for i in range(2, 5) ]\n",
    "\n",
    "print(b, '\\n')\n",
    "\n",
    "print(b[0][1])\n",
    "print(b[2][3])"
   ]
  },
  {
   "cell_type": "code",
   "execution_count": 193,
   "id": "74c068ed",
   "metadata": {},
   "outputs": [
    {
     "name": "stdout",
     "output_type": "stream",
     "text": [
      "[2, 3]\n",
      "[3, 4, 5]\n",
      "[4, 5, 6, 7]\n"
     ]
    }
   ],
   "source": [
    "for x in b:\n",
    "    print(x)"
   ]
  },
  {
   "cell_type": "code",
   "execution_count": 194,
   "id": "e639777d",
   "metadata": {},
   "outputs": [
    {
     "name": "stdout",
     "output_type": "stream",
     "text": [
      "2 3 \n",
      "3 4 5 \n",
      "4 5 6 7 \n"
     ]
    }
   ],
   "source": [
    "for x in b: \n",
    "    for y in x:\n",
    "        print(y, end=' ')\n",
    "    print()"
   ]
  },
  {
   "cell_type": "markdown",
   "id": "3264b59d",
   "metadata": {},
   "source": [
    "## 직접 생각해본 문제 \n",
    "**길이가 '1부터 N까지 합'인 리스트를 각각 1부터 N 길이의 리스트로 쪼개 2차원 리스트로 만들어보자**  \n",
    "ex) [1, 2, 3, 4, 5, 6] >> [ [1], [2, 3], [4, 5, 6] ]"
   ]
  },
  {
   "cell_type": "code",
   "execution_count": 192,
   "id": "1608cadb",
   "metadata": {},
   "outputs": [
    {
     "name": "stdout",
     "output_type": "stream",
     "text": [
      "N = 5\n",
      "\n",
      "1부터 N까지 합 리스트 : \n",
      " [1, 2, 3, 4, 5, 6, 7, 8, 9, 10, 11, 12, 13, 14, 15] \n",
      "\n",
      "[[1], [2, 3], [4, 5, 6], [7, 8, 9, 10], [11, 12, 13, 14, 15]]\n"
     ]
    }
   ],
   "source": [
    "sm = int(input('N = '))\n",
    "print()\n",
    "\n",
    "c = list(range(1, sum(range(0, sm+1))+1))\n",
    "\n",
    "print('1부터 N까지 합 리스트 : \\n', c, '\\n')\n",
    "\n",
    "d = [ c[sum(range(i+1)):sum(range(i+2))] for i in range(sm) ]\n",
    "print(d)"
   ]
  },
  {
   "cell_type": "code",
   "execution_count": null,
   "id": "e7e368aa",
   "metadata": {},
   "outputs": [],
   "source": []
  },
  {
   "cell_type": "markdown",
   "id": "4698740e",
   "metadata": {},
   "source": [
    "---\n",
    "# 11. 함수 만들기"
   ]
  },
  {
   "cell_type": "markdown",
   "id": "ed9f8753",
   "metadata": {},
   "source": [
    "### print 와 return 의 차이"
   ]
  },
  {
   "cell_type": "code",
   "execution_count": 2,
   "id": "9c08f57e",
   "metadata": {},
   "outputs": [
    {
     "name": "stdout",
     "output_type": "stream",
     "text": [
      "5\n",
      "12\n"
     ]
    }
   ],
   "source": [
    "def add(a, b):\n",
    "    print(a+b)\n",
    "    \n",
    "add(3, 2)\n",
    "add(5, 7)"
   ]
  },
  {
   "cell_type": "code",
   "execution_count": 8,
   "id": "1609a8cf",
   "metadata": {},
   "outputs": [
    {
     "name": "stdout",
     "output_type": "stream",
     "text": [
      "5\n",
      "None\n"
     ]
    }
   ],
   "source": [
    "def add(a, b):\n",
    "    print(a+b)\n",
    "    \n",
    "x = add(3, 2)\n",
    "print(x)"
   ]
  },
  {
   "cell_type": "code",
   "execution_count": 9,
   "id": "1c8d1b47",
   "metadata": {},
   "outputs": [
    {
     "name": "stdout",
     "output_type": "stream",
     "text": [
      "5\n"
     ]
    }
   ],
   "source": [
    "def add(a, b):\n",
    "    c = a+b\n",
    "    return c \n",
    "\n",
    "x = add(3, 2)\n",
    "print(x)"
   ]
  },
  {
   "cell_type": "markdown",
   "id": "f478e114",
   "metadata": {},
   "source": [
    "### 여러 값 return 가능 (튜플 형태) "
   ]
  },
  {
   "cell_type": "code",
   "execution_count": 11,
   "id": "f399f53d",
   "metadata": {},
   "outputs": [
    {
     "name": "stdout",
     "output_type": "stream",
     "text": [
      "(5, 1)\n"
     ]
    }
   ],
   "source": [
    "def add_sub(a, b):\n",
    "    c = a+b\n",
    "    d = a-b\n",
    "    return c, d\n",
    "\n",
    "print(add_sub(3, 2))"
   ]
  },
  {
   "cell_type": "markdown",
   "id": "f7882c36",
   "metadata": {},
   "source": [
    "#### 소수 return하는 함수"
   ]
  },
  {
   "cell_type": "code",
   "execution_count": 15,
   "id": "006bc02b",
   "metadata": {},
   "outputs": [
    {
     "name": "stdout",
     "output_type": "stream",
     "text": [
      "13 7 19 "
     ]
    }
   ],
   "source": [
    "def isPrime(x):\n",
    "    for i in range(2, x):\n",
    "        if x%i == 0:\n",
    "            return False\n",
    "    return True\n",
    "\n",
    "a = [12, 13, 7, 9, 19]\n",
    "\n",
    "for y in a:\n",
    "    if isPrime(y):\n",
    "        print(y, end=' ')"
   ]
  },
  {
   "cell_type": "markdown",
   "id": "b7a94411",
   "metadata": {},
   "source": [
    "#### 리스트/튜플을 매개변수로 "
   ]
  },
  {
   "cell_type": "code",
   "execution_count": 45,
   "id": "0429715e",
   "metadata": {},
   "outputs": [
    {
     "name": "stdout",
     "output_type": "stream",
     "text": [
      "[False, True, True, False, True]\n"
     ]
    }
   ],
   "source": [
    "def isPrime2(x):\n",
    "    ls = []\n",
    "    for i in x:\n",
    "        if any(i%y==0 for y in range(2, i)):\n",
    "            ls.append(False)\n",
    "        else:\n",
    "            ls.append(True)\n",
    "    return ls\n",
    "\n",
    "a = [12, 13, 7, 9, 19] \n",
    "\n",
    "print(isPrime2(a))"
   ]
  },
  {
   "cell_type": "markdown",
   "id": "af24e9dd",
   "metadata": {},
   "source": [
    "---\n",
    "# 12. 람다 함수 (표현식) \n",
    "익명의 함수 (이름이 없는 함수)"
   ]
  },
  {
   "cell_type": "markdown",
   "id": "d7c9a83f",
   "metadata": {},
   "source": [
    "### def 와 비교"
   ]
  },
  {
   "cell_type": "code",
   "execution_count": 46,
   "id": "04be56e4",
   "metadata": {},
   "outputs": [
    {
     "name": "stdout",
     "output_type": "stream",
     "text": [
      "2\n"
     ]
    }
   ],
   "source": [
    "def plus_one(x):\n",
    "    return x+1 \n",
    "\n",
    "print(plus_one(1))"
   ]
  },
  {
   "cell_type": "code",
   "execution_count": 49,
   "id": "c0cb45cc",
   "metadata": {},
   "outputs": [
    {
     "name": "stdout",
     "output_type": "stream",
     "text": [
      "3\n",
      "2\n"
     ]
    }
   ],
   "source": [
    "plus_two = lambda x: x+2 \n",
    "\n",
    "print(plus_two(1))\n",
    "print(plus_two(0))"
   ]
  },
  {
   "cell_type": "markdown",
   "id": "055af463",
   "metadata": {},
   "source": [
    "### 내장함수의 인자로 사용"
   ]
  },
  {
   "cell_type": "code",
   "execution_count": 51,
   "id": "bf8ab7e4",
   "metadata": {},
   "outputs": [
    {
     "name": "stdout",
     "output_type": "stream",
     "text": [
      "[2, 3, 4]\n"
     ]
    }
   ],
   "source": [
    "def plus_one(x):\n",
    "    return x+1 \n",
    "\n",
    "a = [1,2,3]\n",
    "\n",
    "print(list(map(plus_one, a)))"
   ]
  },
  {
   "cell_type": "code",
   "execution_count": 52,
   "id": "945b2e9d",
   "metadata": {},
   "outputs": [
    {
     "name": "stdout",
     "output_type": "stream",
     "text": [
      "[2, 3, 4]\n"
     ]
    }
   ],
   "source": [
    "a = [1,2,3]\n",
    "\n",
    "print(list(map(lambda x: x+1, a)))"
   ]
  },
  {
   "cell_type": "markdown",
   "id": "660f8a03",
   "metadata": {},
   "source": [
    "**map** 함수의 인자 (func.) 로 람다 표현식 사용 "
   ]
  },
  {
   "cell_type": "markdown",
   "id": "99d2b1aa",
   "metadata": {},
   "source": [
    "---"
   ]
  }
 ],
 "metadata": {
  "kernelspec": {
   "display_name": "Python 3 (ipykernel)",
   "language": "python",
   "name": "python3"
  },
  "language_info": {
   "codemirror_mode": {
    "name": "ipython",
    "version": 3
   },
   "file_extension": ".py",
   "mimetype": "text/x-python",
   "name": "python",
   "nbconvert_exporter": "python",
   "pygments_lexer": "ipython3",
   "version": "3.9.7"
  }
 },
 "nbformat": 4,
 "nbformat_minor": 5
}
