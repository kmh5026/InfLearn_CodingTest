{
 "cells": [
  {
   "cell_type": "markdown",
   "metadata": {},
   "source": [
    "# 1. K번째 약수 \n",
    "\n",
    "두 개의 자연수 N과 K가 주어졌을 때, N의 약수들 중 K번째로 작은 수를 출력하는 프로그램을\n",
    "작성하시오. "
   ]
  },
  {
   "cell_type": "code",
   "execution_count": 18,
   "metadata": {},
   "outputs": [
    {
     "name": "stdout",
     "output_type": "stream",
     "text": [
      "100 7\n",
      "25\n"
     ]
    }
   ],
   "source": [
    "import sys \n",
    "# sys.stdin = open('input.txt', 'r')\n",
    "\n",
    "N, K = map(int, input().split()) \n",
    "\n",
    "order = 0\n",
    "\n",
    "for i in range(1, N+1):\n",
    "    if N % i == 0:\n",
    "        order +=1 \n",
    "    if order == K: \n",
    "        print(i) \n",
    "        break \n",
    "else: print(-1)\n"
   ]
  },
  {
   "cell_type": "markdown",
   "metadata": {},
   "source": [
    "---\n"
   ]
  },
  {
   "cell_type": "markdown",
   "metadata": {},
   "source": [
    "# 2. K번째 수 \n",
    "N 개의 숫자로 이루어진 숫자열이 주어지면 해당 숫자열 중에서 s번째부터 e번째 까지의 수를 오름차순 정렬했을 때 k번째로 나타나는 숫자를 출력하는 프로그램  \n",
    "* 첫번째 줄 : 테스트 케이스 T \n",
    "* 각 케이스 별로 \n",
    "    - 첫번째 줄 : 자연수 N, s, e, k \n",
    "    - 두번째 줄 : N개의 숫자 차례로 "
   ]
  },
  {
   "cell_type": "code",
   "execution_count": 7,
   "metadata": {},
   "outputs": [
    {
     "name": "stdout",
     "output_type": "stream",
     "text": [
      "1\n",
      "6 2 5 3 \n",
      "7 6 5 4 3 2 1\n",
      "#1 5\n"
     ]
    }
   ],
   "source": [
    "import sys \n",
    "# sys.stdin = open('/Users/kimmh/Desktop/Algorithm/Sec2/2.K번째 수/in3.txt', 'rt')\n",
    "\n",
    "T = int(input())\n",
    "\n",
    "for i in range(T):\n",
    "    N, s, e, k = map(int, input().split())\n",
    "    list1 = list(map(int, input().split()))\n",
    "    list1 = list1[s-1:e]\n",
    "    list1.sort()\n",
    "    print('#{}'.format(i+1), list1[k-1])"
   ]
  },
  {
   "cell_type": "markdown",
   "metadata": {
    "scrolled": true
   },
   "source": [
    "---\n",
    "# 3. K번째 큰 수"
   ]
  },
  {
   "cell_type": "code",
   "execution_count": null,
   "metadata": {},
   "outputs": [],
   "source": [
    "# K번째 큰 수 \n",
    "\n",
    "import sys \n",
    "sys.stdin = open('/Users/kimmh/Desktop/Algorithm/Sec2/3.k번째 큰 수/in5.txt', 'rt')\n",
    "\n",
    "#--------------------------------------------------------------------------------# \n",
    "# 1. 1부터 100 사이 자연수 적힌 N장의 카드 (숫자 중복 가능) \n",
    "# 2. 이 중 3장을 뽑아 합을 기록 (모든 경우의 수에 대해) \n",
    "# 3. 기록된 값들 중 K번째로 큰 수 출력 (내림차순) \n",
    "# \n",
    "# ex) 25 25 23 21 21 18 ... 에서 K=4이면 18 출력 \n",
    "#--------------------------------------------------------------------------------#\n",
    "\n",
    "\n",
    "N, K = map(int, input().split())   # N과 K 입력 \n",
    "\n",
    "card = list(map(int, input().split()))  # N장의 카드 입력 \n",
    "\n",
    "comb = []   # 빈 조합 리스트 생성 \n",
    "\n",
    "\n",
    "'''\n",
    "*** 1차 시도 *** \n",
    "\n",
    "for i in range(N-2):\n",
    "    for j in range(i+1, N-1):\n",
    "        for k in range(j+1, N):\n",
    "            comb.append(card[i] + card[j] + card[k])\n",
    "# 가능한 모든 조합 생성 \n",
    "\n",
    "comb.sort(reverse=True)  # 조합 내림차순 정렬 \n",
    "\n",
    "print(comb[K-1])         # K번째로 큰 수 출력 \n",
    "\n",
    "   - 문제점: 내림차순 정렬할 때 중복 제거 안 됨 \n",
    "   - 해결책: list를 다시 set으로 만들거나, (https://blockdmask.tistory.com/543) \n",
    "           for문 이용 (not in 구문으로 새 리스트에 append) \n",
    "           => 값 순서가 중요한 경우 for문 이용 \n",
    "'''\n",
    "\n",
    "#--------------------------------------------------------------------------------# \n",
    "\n",
    "### 해결책 1 ### \n",
    "\n",
    "for i in range(N-2):\n",
    "    for j in range(i+1, N-1):\n",
    "        for k in range(j+1, N):\n",
    "            comb.append(card[i] + card[j] + card[k]) \n",
    "# 가능한 모든 조합 생성 \n",
    "# 내가 작성한 for문은 조합 생성 단계에 있어서는 중복이 없으나, 소스코드의 for문은 조합 생성할 때도 중복적으로 조합함 \n",
    "\n",
    "comb = list(set(comb))   # 중복 제거 (자동으로 오름차순 정렬) \n",
    "comb.sort(reverse=True)  # 조합 내림차순 정렬 \n",
    "\n",
    "print(comb[K-1])         # K번째로 큰 수 출력 \n",
    "\n",
    "\n",
    "\n",
    "#--------------------------------------------------------------------------------# \n",
    "\n",
    "'''\n",
    "# 해결책 2 # \n",
    "comb = []   # 빈 조합 리스트 생성 \n",
    "\n",
    "for i in range(N-2):\n",
    "    for j in range(i+1, N-1):\n",
    "        for k in range(j+1, N):\n",
    "            comb.append(card[i] + card[j] + card[k])\n",
    "# 가능한 모든 조합 생성 \n",
    "\n",
    "res = [] \n",
    "for i in comb:\n",
    "    if i not in res:\n",
    "        res.append(i)\n",
    "\n",
    "res.sort(reverse=True)  # 조합 내림차순 정렬 \n",
    "\n",
    "print(res[K-1])         # K번째로 큰 수 출력 \n",
    "'''\n"
   ]
  },
  {
   "cell_type": "markdown",
   "metadata": {},
   "source": [
    "---\n",
    "# 4. 대표값 "
   ]
  },
  {
   "cell_type": "code",
   "execution_count": null,
   "metadata": {},
   "outputs": [],
   "source": [
    "# 대표값 \n",
    "\n",
    "import sys \n",
    "sys.stdin = open('/Users/kimmh/Desktop/Algorithm/Sec2/4.대표값/in4.txt', 'rt')\n",
    "\n",
    "#--------------------------------------------------------------------------------# \n",
    "# 1. N명의 수학 점수 \n",
    "# 2. N명의 평균을 출력하고, (소수 첫째자리에서 반올림) \n",
    "# 3. 평균에 가장 가까운 학생은 몇번째 학생인지 출력 \n",
    "# 4. 평균과 가장 가까운 점수가 여러개일 경우 (거리가 같은 경우), 높은 점수의 학생 번호 출력  (=내림차순) \n",
    "# 5.    높은 점수의 학생도 여러명일 경우, 빠른 번호의 학생 번호 출력  (=오름차순) \n",
    "#--------------------------------------------------------------------------------# \n",
    "\n",
    "N = int(input())\n",
    "\n",
    "score = list(map(int, input().split()))\n",
    "\n",
    "avg = round(sum(score)/N)                    # 평균 점수 첫째자리에서 반올림 \n",
    "\n",
    "dist = [ abs(x-y) for x,y in zip(score, [avg]*N) ]    # 평균과의 차이 리스트 \n",
    "\n",
    "minimum = min(dist)         # 차이 최소값 \n",
    "\n",
    "cand = []  # 후보군 리스트 \n",
    "\n",
    "for idx, val in enumerate(dist): \n",
    "    if val == minimum: \n",
    "        cand.append(idx) \n",
    "\n",
    "high = 0\n",
    "for i in cand:\n",
    "    if score[i] > high: \n",
    "        high = score[i] \n",
    "        result = i+1 \n",
    "\n",
    "print(avg, result) \n",
    "\n"
   ]
  },
  {
   "cell_type": "code",
   "execution_count": 9,
   "metadata": {},
   "outputs": [
    {
     "name": "stdout",
     "output_type": "stream",
     "text": [
      "<zip object at 0x10732b380>\n",
      "(80, 90) (90, 90) (100, 90) \n",
      "[10, 0, 10]\n"
     ]
    }
   ],
   "source": [
    "N = 3\n",
    "score = [80, 90, 100] \n",
    "\n",
    "avg = round(sum(score)/N)   # 평균 점수 첫째자리에서 반올림 \n",
    "\n",
    "dist = [abs(x-y) for x,y in zip(score, [avg]*N)]  # 평균과의 차이 리스트 \n",
    "\n",
    "print(zip(score, [avg]*N))\n",
    "\n",
    "for pair in zip(score, [avg]*N):     # zip 활용 >> 튜플로서 처리 \n",
    "    print(pair, end=' ')\n",
    "print()\n",
    "\n",
    "print(dist) \n"
   ]
  },
  {
   "cell_type": "markdown",
   "metadata": {},
   "source": [
    "---\n",
    "# 5. 정다면체"
   ]
  },
  {
   "cell_type": "code",
   "execution_count": 19,
   "metadata": {},
   "outputs": [
    {
     "name": "stdout",
     "output_type": "stream",
     "text": [
      "5 6 7 "
     ]
    }
   ],
   "source": [
    "import sys \n",
    "# sys.stdin = open('/Users/kimmh/Desktop/Algorithm/Sec2/4.대표값/in4.txt', 'rt')\n",
    "\n",
    "#--------------------------------------------------------------------------------# \n",
    "# 1. 두 개의 주사위 : 정N면체, 정M면체  \n",
    "# 2. 나올 수 있는 '눈의 합' 중 가장 '확률이 높은' 숫자 출력  \n",
    "# 3. 정답 여러개일 경우 오름차순으로 \n",
    "# 4. N과 M은 4, 6, 8, 12, 20 중의 하나 \n",
    "#--------------------------------------------------------------------------------# \n",
    "\n",
    "N, M = map(int, input().split()) \n",
    "\n",
    "sum_ = []\n",
    "\n",
    "for i in range(1, N+1):\n",
    "    for j in range(1, M+1): \n",
    "        sum_.append(str(i+j))  # 눈의 합들 나열 \n",
    "\n",
    "res = []\n",
    "\n",
    "for k in range(2, N+M+1):\n",
    "    res.append(sum_.count(str(k)))  # 2부터 N+M까지 모든 합의 등장 횟수 나열 \n",
    "\n",
    "cnt = 0 \n",
    "\n",
    "for idx, val in enumerate(res):\n",
    "    if val > cnt: \n",
    "        cnt = val \n",
    "\n",
    "for idx, val in enumerate(res):\n",
    "    if val == cnt: \n",
    "        print(idx+2, end=' ') \n"
   ]
  },
  {
   "cell_type": "code",
   "execution_count": 22,
   "metadata": {},
   "outputs": [
    {
     "name": "stdout",
     "output_type": "stream",
     "text": [
      "5 6 7 "
     ]
    }
   ],
   "source": [
    "### 소스코드 참고 \n",
    "# 앞의 for문 두개를 하나로 줄일 수 있음 \n",
    "\n",
    "cnt = [0] * (N+M-1)          # 2부터 N+M까지 합 경우의 수 (N+M-1가지) \n",
    "\n",
    "for i in range(1, N+1):\n",
    "    for j in range(1, M+1):\n",
    "        cnt[i+j-2] += 1      # 합 count \n",
    "\n",
    "max_ = 0 \n",
    "for i in range(len(cnt)): \n",
    "    if cnt[i] > max_: \n",
    "        max_ = cnt[i]        # 최다 등장 횟수 구함 (max_) \n",
    "\n",
    "for i in range(len(cnt)):\n",
    "    if cnt[i] == max_: \n",
    "        print(i+2, end=' ')  # 나올 수 있는 '눈의 합' 중 가장 '확률이 높은' 숫자\n",
    "\n"
   ]
  },
  {
   "cell_type": "markdown",
   "metadata": {},
   "source": [
    "---\n",
    "# 6. 자릿수의 합 "
   ]
  },
  {
   "cell_type": "code",
   "execution_count": 26,
   "metadata": {},
   "outputs": [
    {
     "name": "stdout",
     "output_type": "stream",
     "text": [
      "97\n"
     ]
    }
   ],
   "source": [
    "import sys \n",
    "# sys.stdin = open('/Users/kimmh/Desktop/Algorithm/Sec2/6.자릿수의 합/in1.txt', 'rt')\n",
    "\n",
    "#--------------------------------------------------------------------------------# \n",
    "# 1. def digit_sum(x)  \n",
    "# 2. N개의 자연수 입력되면 각 자연수의 자릿수의 합 구하고, \n",
    "# 3. 그 자릿수 합이 최대인 자연수를 출력 \n",
    "# 4. 자릿수 합 최대가 같을 경우 먼저 입력된 수를 출력 \n",
    "#--------------------------------------------------------------------------------# \n",
    "\n",
    "N = int(input())\n",
    "\n",
    "num = list(map(int, input().split())) \n",
    "\n",
    "# ex) 297 \n",
    "# 2 + 9 + 7 = 18 \n",
    "# 7 : 297을 10으로 나눈 나머지 \n",
    "# 9 : 29를 10으로 나눈 나머지   (29 = 297을 10으로 나눈 몫)\n",
    "# 2 : 2를 10으로 나눈 나머지    (2 = 29를 10으로 나눈 몫)      >>> while문 활용 가능 \n",
    "\n",
    "def digit_sum(x): \n",
    "    x = str(x) \n",
    "    res = 0 \n",
    "    for i in range(len(x)):\n",
    "        res += int(x[i])\n",
    "    return res \n",
    "\n",
    "max_ = 0 \n",
    "\n",
    "for i in num:\n",
    "    dg_sum = digit_sum(i)\n",
    "    if dg_sum > max_:\n",
    "        max_ = dg_sum \n",
    "        result = i \n",
    "\n",
    "print(result)  \n",
    "\n",
    "\n"
   ]
  },
  {
   "cell_type": "markdown",
   "metadata": {},
   "source": [
    "---\n",
    "# 7. 소수 "
   ]
  },
  {
   "cell_type": "code",
   "execution_count": 35,
   "metadata": {},
   "outputs": [
    {
     "name": "stdout",
     "output_type": "stream",
     "text": [
      "9592\n"
     ]
    }
   ],
   "source": [
    "import sys \n",
    "# sys.stdin = open('/Users/kimmh/Desktop/Algorithm/Sec2/7.소수(에라토스테네스 체)/in5.txt', 'rt')\n",
    "\n",
    "#--------------------------------------------------------------------------------# \n",
    "# 1. 자연수 N 입력되면, 1부터 N까지 중 소수의 개수를 출력 \n",
    "# 2. 제한시간 1초 \n",
    "# \n",
    "# ex) N = 20 >> 8개 (2, 3, 5, 7, 11, 13, 17, 19) \n",
    "#--------------------------------------------------------------------------------# \n",
    "\n",
    "N = int(input()) \n",
    "\n",
    "cnt = 0 \n",
    "ls = []\n",
    "for i in range(2, N+1): \n",
    "    if any(i % j == 0 for j in range(2, i)): \n",
    "        cnt += 0  \n",
    "    else: \n",
    "        cnt += 1 \n",
    "\n",
    "\n",
    "print(cnt) \n",
    "\n",
    "### 제한시간 존나 초과.. \n"
   ]
  },
  {
   "cell_type": "code",
   "execution_count": 39,
   "metadata": {},
   "outputs": [
    {
     "name": "stdout",
     "output_type": "stream",
     "text": [
      "9592\n"
     ]
    }
   ],
   "source": [
    "import sys \n",
    "# sys.stdin = open('/Users/kimmh/Desktop/Algorithm/Sec2/7.소수(에라토스테네스 체)/in5.txt', 'rt')\n",
    "\n",
    "N = int(input()) \n",
    "\n",
    "cnt = 0 \n",
    "ls = []\n",
    "for i in range(2, N+1): \n",
    "    tmp = 0 \n",
    "    for j in range(2, i):\n",
    "        if i % j == 0: \n",
    "            tmp = 1 \n",
    "            break \n",
    "    if tmp == 0:\n",
    "        cnt += 1 \n",
    "\n",
    "print(cnt) \n",
    "\n",
    "### 이것도 시팔... \n"
   ]
  },
  {
   "cell_type": "code",
   "execution_count": 1,
   "metadata": {},
   "outputs": [
    {
     "name": "stdout",
     "output_type": "stream",
     "text": [
      "9592\n"
     ]
    }
   ],
   "source": [
    "# *** 소스코드 참고 *** \n",
    "\n",
    "N = int(input()) \n",
    "\n",
    "cnt = 0 \n",
    "\n",
    "ls = [0] * (N+1) \n",
    "\n",
    "for i in range(2, N+1):\n",
    "    if ls[i]==0:         # 무엇의 배수도 아닌 경우 >> 소수 i \n",
    "        cnt += 1 \n",
    "        for j in range(i, N+1, i):   # i부터 N까지 중 i의 배수들 다 제거하는 개념 \n",
    "            ls[j] = 1 \n",
    "\n",
    "# ex) i = 2 \n",
    "#   : 소수 2 한 개 세고, 그 뒤 N까지 2의 배수 인덱스 ls 원소를 다 1로 바꿈 \n",
    "#     i = 3 \n",
    "#   : 소수 3 한 개 세고, 그 뒤 N까지 3의 배수 인덱스 ls 원소를 다 1로 바꿈 \n",
    "#     i = 4 \n",
    "#   : ls[4]가 0이 아니므로 skip! \n",
    "# ...\n",
    "\n",
    "print(cnt) \n"
   ]
  },
  {
   "cell_type": "markdown",
   "metadata": {},
   "source": [
    "---\n",
    "# 8. 뒤집은 소수 "
   ]
  },
  {
   "cell_type": "code",
   "execution_count": null,
   "metadata": {},
   "outputs": [],
   "source": [
    "import sys \n",
    "sys.stdin = open('/Users/kimmh/Desktop/Algorithm/Sec2/8.뒤집은 소수/in5.txt', 'rt')\n",
    "\n",
    "#--------------------------------------------------------------------------------# \n",
    "# 1. N개의 자연수 입력되면 각 자연수를 뒤집은 후 그 뒤집은 수가 소수일 경우 그것을 출력 (뒤집은 수)\n",
    "# 2. def reverse(x) \n",
    "# 3. def isPrime(x) \n",
    "# 4. N : 3 이상 100 이하 \n",
    "# 5. 각 자연수는 100,000 이하 \n",
    "# \n",
    "# ex) 32 > 23 == 소수 > 출력 \n",
    "#     910 > 19 == 소수 > 출력 (첫자리 0은 무시) 즉, 10으로 나눠 나머지 0인 경우 \n",
    "#--------------------------------------------------------------------------------# \n",
    "\n",
    "N = int(input())\n",
    "\n",
    "num = list(map(int, input().split())) \n",
    "\n",
    "\n",
    "# *** Slicing \n",
    "#     [ start : stop : step ] 을 의미 (디폴트로 step = 1) \n",
    "\n",
    "def reverse(x): \n",
    "    x = str(x)         # 문자열로 \n",
    "    x = x.rstrip('0')  # 우측의 '0'들 다 제거 \n",
    "    x = x[::-1]        # slicing 이용하여 순서 뒤집기 \n",
    "    x = int(x)         # 다시 정수형으로 \n",
    "    return x \n",
    "\n",
    "def isPrime(x): \n",
    "    if x == 1:\n",
    "        return False \n",
    "\n",
    "    for i in range(2, x):\n",
    "        if x % i == 0:\n",
    "            return False \n",
    "\n",
    "    return True \n",
    "\n",
    "for i in num:\n",
    "    res = reverse(i)\n",
    "    if isPrime(res): \n",
    "        print(res, end=' ') \n"
   ]
  },
  {
   "cell_type": "markdown",
   "metadata": {},
   "source": [
    "---\n",
    "# 9. 주사위 게임"
   ]
  },
  {
   "cell_type": "code",
   "execution_count": 2,
   "metadata": {},
   "outputs": [
    {
     "name": "stdout",
     "output_type": "stream",
     "text": [
      "12000\n"
     ]
    }
   ],
   "source": [
    "# 주사위 게임 \n",
    "\n",
    "import sys \n",
    "# sys.stdin = open('/Users/kimmh/Desktop/Algorithm/Sec2/9.주사위 게임/in1.txt', 'rt')\n",
    "\n",
    "#--------------------------------------------------------------------------------# \n",
    "# 1. 3개의 주사위 (눈 6까지) \n",
    "# 2. N명이 주사위 게임에 참가 \n",
    "# 규칙 1) 같은 눈이 3개 >> 10,000 + 눈 * 1000 원의 상금 \n",
    "# 규칙 2) 같은 눈이 2개 >> 1,000 + 눈 * 100 원의 상금 \n",
    "# 규칙 3) 모두 다른 눈  >> 가장 큰 눈 * 100 원의 상금 \n",
    "# \n",
    "# 3. 가장 많은 상금을 받은 사람의 상금을 출력 \n",
    "# \n",
    "# 입력 1) N \n",
    "# 입력 2) N개 줄에 각 사람이 던진 주사위 눈 \n",
    "#--------------------------------------------------------------------------------# \n",
    "\n",
    "N = int(input()) \n",
    "\n",
    "winner = 0 \n",
    "\n",
    "for i in range(N):\n",
    "    a, b, c = map(int, input().split()) \n",
    "    \n",
    "    if a == b == c: \n",
    "        prize = 10000 + a * 1000 \n",
    "    elif a==b | b==c: \n",
    "        prize = 1000 + b * 100 \n",
    "    elif a==c: \n",
    "        prize = 1000 + a * 100 \n",
    "    else:\n",
    "        prize = max(a, b, c) * 100 \n",
    "    \n",
    "    if prize > winner:\n",
    "        winner = prize \n",
    "\n",
    "print(winner) \n"
   ]
  },
  {
   "cell_type": "markdown",
   "metadata": {},
   "source": [
    "--- \n",
    "# 10. 점수 계산 "
   ]
  },
  {
   "cell_type": "code",
   "execution_count": 2,
   "metadata": {},
   "outputs": [
    {
     "name": "stdout",
     "output_type": "stream",
     "text": [
      "10\n"
     ]
    }
   ],
   "source": [
    "\n",
    "# 점수 계산 (OX 문제)\n",
    "\n",
    "import sys \n",
    "# sys.stdin = open('/Users/kimmh/Desktop/Algorithm/Sec2/10.점수 계산/in5.txt', 'rt')\n",
    "\n",
    "#--------------------------------------------------------------------------------# \n",
    "#   - 연속적으로 답을 맞출 경우 가산점 부여 - \n",
    "# 1. 1번은 1점 \n",
    "# 2. 답을 틀리다가 처음 맞으면 1점 \n",
    "# 3. 연속 정답 K번째에는 K점    ( 1 + 2 + ... + K 점 ) \n",
    "# 4. 틀리면 0점 \n",
    "# 5. 채점 시 맞으면 1, 틀리면 0으로 표시 \n",
    "# \n",
    "# ex) 채점 : 1 0 1 1 1 0 0 1 1 0 \n",
    "#     점수 : 1 0 1 2 3 0 0 1 2 0 \n",
    "# \n",
    "# 6. 총 점수를 계산하는 프로그램 작성 \n",
    "#\n",
    "# 입력 1) 문제 개수 N \n",
    "# 입력 2) N개 문제의 채점 결과 한 줄에 \n",
    "#--------------------------------------------------------------------------------# \n",
    "\n",
    "N = int(input()) \n",
    "\n",
    "res = list(map(int, input().split()))   # 채점 결과 리스트 \n",
    "\n",
    "score = 0               # 총점 \n",
    "num = 0                 # 개별 문제 점수 \n",
    "\n",
    "for i in res:\n",
    "    if i == 0: \n",
    "        num = 0         # 가산점 초기화 \n",
    "    else: \n",
    "        num += 1        # 가산점 부여 \n",
    "        score += num    # 총점에 합산 \n",
    "\n",
    "print(score) \n",
    "\n"
   ]
  }
 ],
 "metadata": {
  "interpreter": {
   "hash": "1b879032af831e4c7eb6f6df225513f7f9433d53adce87aa43f3c37000f2141c"
  },
  "kernelspec": {
   "display_name": "Python 3 (ipykernel)",
   "language": "python",
   "name": "python3"
  },
  "language_info": {
   "codemirror_mode": {
    "name": "ipython",
    "version": 3
   },
   "file_extension": ".py",
   "mimetype": "text/x-python",
   "name": "python",
   "nbconvert_exporter": "python",
   "pygments_lexer": "ipython3",
   "version": "3.9.5"
  }
 },
 "nbformat": 4,
 "nbformat_minor": 2
}
