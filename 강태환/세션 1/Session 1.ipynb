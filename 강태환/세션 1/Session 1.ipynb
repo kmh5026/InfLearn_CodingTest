{
 "cells": [
  {
   "cell_type": "markdown",
   "id": "5a1c2999",
   "metadata": {},
   "source": [
    "# 1강"
   ]
  },
  {
   "cell_type": "markdown",
   "id": "e4849a38",
   "metadata": {},
   "source": [
    "기본적인 파이썬 문법(나는 jupyter notebook으로 진행)<br>\n",
    "‘’’: 여러 줄 주석처리<br>\n",
    "type: 변수의 타입을 표출<br>\n",
    "sep: 변수 사이의공간을 이걸로 채워라(sep = ‘/n  줄바꿈의 의미)<br>\n",
    "print(a): 자체적으로 줄바꿈 기능이 있음 없애려면 end = ‘ ’"
   ]
  },
  {
   "cell_type": "code",
   "execution_count": 17,
   "id": "28bedf57",
   "metadata": {},
   "outputs": [
    {
     "data": {
      "text/plain": [
       "'\\n여러 줄 주석\\n정규형 재취준 기원\\n머리가 띵\\n오윤택님 감사합니다\\n\\n'"
      ]
     },
     "execution_count": 17,
     "metadata": {},
     "output_type": "execute_result"
    }
   ],
   "source": [
    "'''\n",
    "여러 줄 주석\n",
    "정규형 재취준 기원\n",
    "머리가 띵\n",
    "오윤택님 감사합니다\n",
    "\n",
    "'''"
   ]
  },
  {
   "cell_type": "code",
   "execution_count": 18,
   "id": "df2f4073",
   "metadata": {},
   "outputs": [],
   "source": [
    "a= 123\n",
    "type(a)\n",
    "b='1234'\n",
    "type(b)\n",
    "c= 5"
   ]
  },
  {
   "cell_type": "code",
   "execution_count": 19,
   "id": "d5d587b3",
   "metadata": {},
   "outputs": [
    {
     "name": "stdout",
     "output_type": "stream",
     "text": [
      "number : 123 1234 5\n"
     ]
    }
   ],
   "source": [
    "print('number :', a, b, c)"
   ]
  },
  {
   "cell_type": "code",
   "execution_count": 20,
   "id": "58255517",
   "metadata": {},
   "outputs": [
    {
     "name": "stdout",
     "output_type": "stream",
     "text": [
      "123, 1234, 5\n"
     ]
    }
   ],
   "source": [
    "print(a, b, c,sep=', ')"
   ]
  },
  {
   "cell_type": "code",
   "execution_count": 21,
   "id": "8468baa4",
   "metadata": {},
   "outputs": [
    {
     "name": "stdout",
     "output_type": "stream",
     "text": [
      "123\n",
      "1234\n",
      "5\n"
     ]
    }
   ],
   "source": [
    "print(a,b,c,sep='\\n')"
   ]
  },
  {
   "cell_type": "code",
   "execution_count": 22,
   "id": "7b0f5247",
   "metadata": {
    "scrolled": true
   },
   "outputs": [
    {
     "name": "stdout",
     "output_type": "stream",
     "text": [
      "123 1234\n",
      "5\n"
     ]
    }
   ],
   "source": [
    "print(a, end=' ')\n",
    "print(b)\n",
    "print(c)"
   ]
  },
  {
   "cell_type": "markdown",
   "id": "87d341d1",
   "metadata": {},
   "source": [
    "# 2강"
   ]
  },
  {
   "cell_type": "markdown",
   "id": "0d0b6da9",
   "metadata": {},
   "source": [
    "a = input(‘숫자를 입력하세요: ‘)<br>\n",
    "print(a): 프롬프트에 입력한 대로 출력<br>\n",
    ".split() : 숫자를 각 변수에 분리해줌 -> 문자형으로 분리됨<br>\n",
    "map: 위 과정을 매핑해줄 수 있음(map(int, input(‘나이를 입력해주세요: ’).split())<br>\n",
    "//: 몫을 구해라<br>\n",
    "%: 나머지를 구해라<br>\n",
    "**: 거듭제곱"
   ]
  },
  {
   "cell_type": "code",
   "execution_count": 23,
   "id": "fd9498fa",
   "metadata": {},
   "outputs": [
    {
     "name": "stdout",
     "output_type": "stream",
     "text": [
      "나이를 입력하세요: 20\n",
      "20\n"
     ]
    }
   ],
   "source": [
    "a = input('나이를 입력하세요: ')\n",
    "print(a)"
   ]
  },
  {
   "cell_type": "code",
   "execution_count": 25,
   "id": "6312aa5e",
   "metadata": {
    "scrolled": true
   },
   "outputs": [
    {
     "name": "stdout",
     "output_type": "stream",
     "text": [
      "나이를 입력하세요: 20 21\n"
     ]
    }
   ],
   "source": [
    "a, b = input('나이를 입력하세요: ').split()"
   ]
  },
  {
   "cell_type": "code",
   "execution_count": 27,
   "id": "08651dd9",
   "metadata": {},
   "outputs": [
    {
     "name": "stdout",
     "output_type": "stream",
     "text": [
      "20, 21\n"
     ]
    }
   ],
   "source": [
    "print(a,b, sep=', ')"
   ]
  },
  {
   "cell_type": "code",
   "execution_count": 28,
   "id": "46cc4b98",
   "metadata": {},
   "outputs": [
    {
     "data": {
      "text/plain": [
       "str"
      ]
     },
     "execution_count": 28,
     "metadata": {},
     "output_type": "execute_result"
    }
   ],
   "source": [
    "type(a)"
   ]
  },
  {
   "cell_type": "code",
   "execution_count": 29,
   "id": "37e1f6ca",
   "metadata": {},
   "outputs": [
    {
     "data": {
      "text/plain": [
       "41"
      ]
     },
     "execution_count": 29,
     "metadata": {},
     "output_type": "execute_result"
    }
   ],
   "source": [
    "a = int(a)\n",
    "b = int(b)\n",
    "a+b"
   ]
  },
  {
   "cell_type": "code",
   "execution_count": 32,
   "id": "4a51251d",
   "metadata": {},
   "outputs": [
    {
     "name": "stdout",
     "output_type": "stream",
     "text": [
      "점수를 입력해주세요: 40 80\n"
     ]
    }
   ],
   "source": [
    "a,b = map(int, input('점수를 입력해주세요: ').split())"
   ]
  },
  {
   "cell_type": "code",
   "execution_count": 35,
   "id": "d06f8331",
   "metadata": {},
   "outputs": [
    {
     "name": "stdout",
     "output_type": "stream",
     "text": [
      "120\n",
      "2\n"
     ]
    }
   ],
   "source": [
    "print(a+b)\n",
    "print(b//a)"
   ]
  },
  {
   "cell_type": "markdown",
   "id": "35d59160",
   "metadata": {},
   "source": [
    "# 3강"
   ]
  },
  {
   "cell_type": "markdown",
   "id": "c65f1571",
   "metadata": {},
   "source": [
    "if문<br>\n",
    "파이썬에서는 0<x<10으로 처리 가능<br>"
   ]
  },
  {
   "cell_type": "code",
   "execution_count": 81,
   "id": "5c43f2de",
   "metadata": {},
   "outputs": [
    {
     "name": "stdout",
     "output_type": "stream",
     "text": [
      "10보다 작은 자연수\n"
     ]
    }
   ],
   "source": [
    "x = 5\n",
    "if 0<x<10:\n",
    "    print('10보다 작은 자연수')"
   ]
  },
  {
   "cell_type": "markdown",
   "id": "e76cdb09",
   "metadata": {},
   "source": [
    "# 4강"
   ]
  },
  {
   "cell_type": "markdown",
   "id": "24957753",
   "metadata": {},
   "source": [
    "range(10): 0부터10까지 정수리스트를 만듦<br>\n",
    "range(a,b): a부터 b-1까지<br>\n",
    "range(10, 0, -1): 10부터 1까지 1씩 작아지는 형태(마지막 인자는 step역할<br>\n",
    "while문<br>\n",
    "while True: 무한 반복문<br>\n",
    "i = i+1 == i += 1(반복문 내에서만)<br>\n",
    "break: 반복문 멈추기<br>\n",
    "continue: 반복문 내에서 밑에 조건들을 실행시키지 말고 넘어가라<br>\n",
    "for, else구문: for문이 break당하지 않았을 때만 else를 실행시킴<br>"
   ]
  },
  {
   "cell_type": "code",
   "execution_count": 38,
   "id": "0a99e1fd",
   "metadata": {},
   "outputs": [
    {
     "name": "stdout",
     "output_type": "stream",
     "text": [
      "[0, 1, 2, 3, 4, 5, 6, 7, 8, 9]\n"
     ]
    }
   ],
   "source": [
    "a = range(10)\n",
    "print(list(a))"
   ]
  },
  {
   "cell_type": "code",
   "execution_count": 39,
   "id": "63170edf",
   "metadata": {},
   "outputs": [
    {
     "name": "stdout",
     "output_type": "stream",
     "text": [
      "[1, 2, 3, 4, 5, 6, 7, 8, 9, 10]\n"
     ]
    }
   ],
   "source": [
    "b = range(1,11)\n",
    "print(list(b))"
   ]
  },
  {
   "cell_type": "code",
   "execution_count": 41,
   "id": "8a0a8a43",
   "metadata": {},
   "outputs": [
    {
     "name": "stdout",
     "output_type": "stream",
     "text": [
      "[10, 9, 8, 7, 6, 5, 4, 3, 2, 1]\n"
     ]
    }
   ],
   "source": [
    "c = range(10, 0, -1)\n",
    "print(list(c))"
   ]
  },
  {
   "cell_type": "code",
   "execution_count": 43,
   "id": "b314b11a",
   "metadata": {},
   "outputs": [
    {
     "name": "stdout",
     "output_type": "stream",
     "text": [
      "[0, 2, 4, 6, 8, 10, 12, 14, 16, 18, 20]\n"
     ]
    }
   ],
   "source": [
    "d = range(0,21,2)\n",
    "print(list(d))"
   ]
  },
  {
   "cell_type": "code",
   "execution_count": 49,
   "id": "8ba80604",
   "metadata": {},
   "outputs": [
    {
     "name": "stdout",
     "output_type": "stream",
     "text": [
      "1\n",
      "2\n",
      "3\n",
      "4\n",
      "5\n",
      "6\n",
      "7\n",
      "8\n",
      "9\n",
      "10\n"
     ]
    }
   ],
   "source": [
    "i  = 1\n",
    "while i<=10:\n",
    "    print(i)\n",
    "    i += 1"
   ]
  },
  {
   "cell_type": "code",
   "execution_count": 45,
   "id": "01483a1c",
   "metadata": {},
   "outputs": [
    {
     "name": "stdout",
     "output_type": "stream",
     "text": [
      "10\n",
      "9\n",
      "8\n",
      "7\n",
      "6\n",
      "5\n",
      "4\n",
      "3\n",
      "2\n",
      "1\n"
     ]
    }
   ],
   "source": [
    "i = 10\n",
    "while i >=1:\n",
    "    print(i)\n",
    "    i = i-1"
   ]
  },
  {
   "cell_type": "code",
   "execution_count": 51,
   "id": "476232b5",
   "metadata": {},
   "outputs": [
    {
     "data": {
      "text/plain": [
       "2"
      ]
     },
     "execution_count": 51,
     "metadata": {},
     "output_type": "execute_result"
    }
   ],
   "source": [
    "i = 1\n",
    "i+1\n",
    "# i+=1: 반복문 안에서만 유효"
   ]
  },
  {
   "cell_type": "code",
   "execution_count": 52,
   "id": "5410199b",
   "metadata": {},
   "outputs": [
    {
     "name": "stdout",
     "output_type": "stream",
     "text": [
      "1\n",
      "2\n",
      "3\n",
      "4\n",
      "5\n"
     ]
    }
   ],
   "source": [
    "i = 1\n",
    "while True:\n",
    "    print(i)\n",
    "    if i == 5:\n",
    "        break\n",
    "    i+=1\n",
    "    "
   ]
  },
  {
   "cell_type": "code",
   "execution_count": 53,
   "id": "7379e0a6",
   "metadata": {},
   "outputs": [
    {
     "name": "stdout",
     "output_type": "stream",
     "text": [
      "1\n",
      "3\n",
      "5\n",
      "7\n",
      "9\n"
     ]
    }
   ],
   "source": [
    "for i in range(11):\n",
    "    if i%2 == 0:\n",
    "        continue\n",
    "    print(i)"
   ]
  },
  {
   "cell_type": "code",
   "execution_count": 55,
   "id": "17f7981f",
   "metadata": {},
   "outputs": [
    {
     "name": "stdout",
     "output_type": "stream",
     "text": [
      "1\n",
      "2\n",
      "3\n",
      "4\n",
      "5\n"
     ]
    }
   ],
   "source": [
    "for i in range(1, 11):\n",
    "    print(i)\n",
    "    if i >=5:\n",
    "        break\n",
    "else:\n",
    "    print(i)"
   ]
  },
  {
   "cell_type": "markdown",
   "id": "482ed117",
   "metadata": {},
   "source": [
    "# 5강"
   ]
  },
  {
   "cell_type": "markdown",
   "id": "fd67626b",
   "metadata": {},
   "source": [
    "### 1부터 N까지 홀수 출력"
   ]
  },
  {
   "cell_type": "code",
   "execution_count": 61,
   "id": "e1bd24d1",
   "metadata": {},
   "outputs": [
    {
     "name": "stdout",
     "output_type": "stream",
     "text": [
      "21\n",
      "1\n",
      "3\n",
      "5\n",
      "7\n",
      "9\n",
      "11\n",
      "13\n",
      "15\n",
      "17\n",
      "19\n",
      "21\n"
     ]
    }
   ],
   "source": [
    "N = int(input())\n",
    "for i in range(1, N+1):\n",
    "    if i%2 == 0:\n",
    "        continue\n",
    "    print(i)"
   ]
  },
  {
   "cell_type": "markdown",
   "id": "70b1f05d",
   "metadata": {},
   "source": [
    "### 1부터 N까지의 합 구하기"
   ]
  },
  {
   "cell_type": "code",
   "execution_count": 64,
   "id": "64ad70b9",
   "metadata": {},
   "outputs": [
    {
     "name": "stdout",
     "output_type": "stream",
     "text": [
      "57\n",
      "841\n"
     ]
    }
   ],
   "source": [
    "N = int(input())\n",
    "hap = 0\n",
    "for i in range(1, N+1):\n",
    "    if i%2 == 0:\n",
    "        continue\n",
    "    hap = hap+i\n",
    "print(hap)"
   ]
  },
  {
   "cell_type": "markdown",
   "id": "b50c26bf",
   "metadata": {},
   "source": [
    "### N의 약수 출력하기"
   ]
  },
  {
   "cell_type": "code",
   "execution_count": 68,
   "id": "013ea194",
   "metadata": {},
   "outputs": [
    {
     "name": "stdout",
     "output_type": "stream",
     "text": [
      "64\n",
      "1 2 4 8 16 32 64 "
     ]
    }
   ],
   "source": [
    "N = int(input())\n",
    "for i in range(1, N+1):\n",
    "    if N%i == 0:\n",
    "        print(i, end = ' ')"
   ]
  },
  {
   "cell_type": "markdown",
   "id": "6bf422dc",
   "metadata": {},
   "source": [
    "# 6강"
   ]
  },
  {
   "cell_type": "code",
   "execution_count": 74,
   "id": "4a698e52",
   "metadata": {},
   "outputs": [
    {
     "name": "stdout",
     "output_type": "stream",
     "text": [
      "i :  0 j :  0 j :  1 j :  2 j :  3 j :  4 \n",
      "i :  1 j :  0 j :  1 j :  2 j :  3 j :  4 \n",
      "i :  2 j :  0 j :  1 j :  2 j :  3 j :  4 \n",
      "i :  3 j :  0 j :  1 j :  2 j :  3 j :  4 \n",
      "i :  4 j :  0 j :  1 j :  2 j :  3 j :  4 \n"
     ]
    }
   ],
   "source": [
    "for i in range(5):\n",
    "    print('i : ', i,  sep = ' ', end = ' ')\n",
    "    for j in range(5):\n",
    "        print('j : ', j, sep= ' ', end = ' ')\n",
    "    print()"
   ]
  },
  {
   "cell_type": "code",
   "execution_count": 78,
   "id": "1da2215a",
   "metadata": {
    "scrolled": true
   },
   "outputs": [
    {
     "name": "stdout",
     "output_type": "stream",
     "text": [
      "* \n",
      "* * \n",
      "* * * \n",
      "* * * * \n",
      "* * * * * \n"
     ]
    }
   ],
   "source": [
    "for i in range(5):\n",
    "    for j in range(i+1):\n",
    "        print('*', end = ' ')\n",
    "    print()"
   ]
  },
  {
   "cell_type": "code",
   "execution_count": 80,
   "id": "f7264c7d",
   "metadata": {},
   "outputs": [
    {
     "name": "stdout",
     "output_type": "stream",
     "text": [
      "* * * * * \n",
      "* * * * \n",
      "* * * \n",
      "* * \n",
      "* \n"
     ]
    }
   ],
   "source": [
    "for i in range(5):\n",
    "    for j in range(5-i):\n",
    "        print('*', end = ' ')\n",
    "    print()"
   ]
  },
  {
   "cell_type": "markdown",
   "id": "b7d34779",
   "metadata": {},
   "source": [
    "# 7장"
   ]
  },
  {
   "cell_type": "markdown",
   "id": "c1442eb1",
   "metadata": {},
   "source": [
    "upper: 대문자, lower: 소문자<br>"
   ]
  },
  {
   "cell_type": "code",
   "execution_count": 82,
   "id": "f25466c5",
   "metadata": {},
   "outputs": [],
   "source": [
    "msg = 'It is Time'"
   ]
  },
  {
   "cell_type": "code",
   "execution_count": 84,
   "id": "3092ae47",
   "metadata": {},
   "outputs": [
    {
     "name": "stdout",
     "output_type": "stream",
     "text": [
      "IT IS TIME\n",
      "it is time\n"
     ]
    }
   ],
   "source": [
    "print(msg.upper())\n",
    "print(msg.lower())"
   ]
  },
  {
   "cell_type": "markdown",
   "id": "9f4cd621",
   "metadata": {},
   "source": [
    "find: 문자열의 가장 우선 문자의 인덱스 번호를 알려줌 \n",
    "count: 특정 문자가 몇번 나왔는지"
   ]
  },
  {
   "cell_type": "code",
   "execution_count": 85,
   "id": "6741ba28",
   "metadata": {},
   "outputs": [
    {
     "data": {
      "text/plain": [
       "1"
      ]
     },
     "execution_count": 85,
     "metadata": {},
     "output_type": "execute_result"
    }
   ],
   "source": [
    "tmp = msg.upper()\n",
    "tmp.find('T')"
   ]
  },
  {
   "cell_type": "code",
   "execution_count": 86,
   "id": "5d1778da",
   "metadata": {},
   "outputs": [
    {
     "data": {
      "text/plain": [
       "2"
      ]
     },
     "execution_count": 86,
     "metadata": {},
     "output_type": "execute_result"
    }
   ],
   "source": [
    "tmp.count('T')"
   ]
  },
  {
   "cell_type": "code",
   "execution_count": 88,
   "id": "a110b786",
   "metadata": {},
   "outputs": [
    {
     "data": {
      "text/plain": [
       "'IT'"
      ]
     },
     "execution_count": 88,
     "metadata": {},
     "output_type": "execute_result"
    }
   ],
   "source": [
    "tmp[:2] # 0~1까지"
   ]
  },
  {
   "cell_type": "code",
   "execution_count": 89,
   "id": "68bc280b",
   "metadata": {},
   "outputs": [
    {
     "name": "stdout",
     "output_type": "stream",
     "text": [
      "IS\n"
     ]
    }
   ],
   "source": [
    "print(tmp[3:5])"
   ]
  },
  {
   "cell_type": "markdown",
   "id": "b95a7b29",
   "metadata": {},
   "source": [
    "문자열의 공백도 길이에 포함"
   ]
  },
  {
   "cell_type": "code",
   "execution_count": 90,
   "id": "41d581b0",
   "metadata": {},
   "outputs": [
    {
     "data": {
      "text/plain": [
       "10"
      ]
     },
     "execution_count": 90,
     "metadata": {},
     "output_type": "execute_result"
    }
   ],
   "source": [
    "len(tmp)"
   ]
  },
  {
   "cell_type": "code",
   "execution_count": 92,
   "id": "45736823",
   "metadata": {},
   "outputs": [
    {
     "name": "stdout",
     "output_type": "stream",
     "text": [
      "I t   i s   T i m e "
     ]
    }
   ],
   "source": [
    "for i in range(len(msg)):\n",
    "    print(msg[i], end=' ')"
   ]
  },
  {
   "cell_type": "markdown",
   "id": "4303180b",
   "metadata": {},
   "source": [
    "for문에서 변수 x: 문자열의 문자 하나하나를 지칭"
   ]
  },
  {
   "cell_type": "code",
   "execution_count": 93,
   "id": "6af9d909",
   "metadata": {},
   "outputs": [
    {
     "name": "stdout",
     "output_type": "stream",
     "text": [
      "I t   i s   T i m e "
     ]
    }
   ],
   "source": [
    "for x in msg:\n",
    "    print(x, end = ' ')"
   ]
  },
  {
   "cell_type": "markdown",
   "id": "7bf17fa1",
   "metadata": {},
   "source": [
    ".isupper(): 대문자면 true, .islower(): 소문자면 true<br>\n",
    ".isalpha(): 알파벳이면 true"
   ]
  },
  {
   "cell_type": "code",
   "execution_count": 94,
   "id": "da232e82",
   "metadata": {},
   "outputs": [
    {
     "name": "stdout",
     "output_type": "stream",
     "text": [
      "I T "
     ]
    }
   ],
   "source": [
    "for x in msg:\n",
    "    if x.isupper():\n",
    "        print(x, end = ' ')"
   ]
  },
  {
   "cell_type": "code",
   "execution_count": 95,
   "id": "06c508b3",
   "metadata": {},
   "outputs": [
    {
     "name": "stdout",
     "output_type": "stream",
     "text": [
      "t i s i m e "
     ]
    }
   ],
   "source": [
    "for x in msg:\n",
    "    if x.islower():\n",
    "        print(x, end= ' ')"
   ]
  },
  {
   "cell_type": "code",
   "execution_count": 96,
   "id": "389060b4",
   "metadata": {},
   "outputs": [
    {
     "name": "stdout",
     "output_type": "stream",
     "text": [
      "I t i s T i m e "
     ]
    }
   ],
   "source": [
    "for x in msg:\n",
    "    if x.isalpha():\n",
    "        print(x, end= ' ')"
   ]
  },
  {
   "cell_type": "markdown",
   "id": "fc340de1",
   "metadata": {},
   "source": [
    "ord(x): 문자열의 아스키넘버를 출력<br>\n",
    "A = 65 ~ Z = 90<br>\n",
    "a = 97 ~ z = 122<br>\n",
    "chr(x): 해당 아스키넘버의 문자를 출력"
   ]
  },
  {
   "cell_type": "code",
   "execution_count": 97,
   "id": "f80bbecc",
   "metadata": {},
   "outputs": [
    {
     "name": "stdout",
     "output_type": "stream",
     "text": [
      "65\n",
      "90\n"
     ]
    }
   ],
   "source": [
    "tmp = 'AZ'\n",
    "for x in tmp:\n",
    "    print(ord(x))"
   ]
  },
  {
   "cell_type": "code",
   "execution_count": 98,
   "id": "c7bb8a46",
   "metadata": {},
   "outputs": [
    {
     "name": "stdout",
     "output_type": "stream",
     "text": [
      "97\n",
      "122\n"
     ]
    }
   ],
   "source": [
    "tmp = 'az'\n",
    "for x in tmp:\n",
    "    print(ord(x))"
   ]
  },
  {
   "cell_type": "code",
   "execution_count": 99,
   "id": "f3f2827a",
   "metadata": {},
   "outputs": [
    {
     "name": "stdout",
     "output_type": "stream",
     "text": [
      "B\n"
     ]
    }
   ],
   "source": [
    "tmp = 66\n",
    "print(chr(tmp))"
   ]
  },
  {
   "cell_type": "markdown",
   "id": "42ff6631",
   "metadata": {},
   "source": [
    "# 8강"
   ]
  },
  {
   "cell_type": "code",
   "execution_count": 100,
   "id": "d6ffd24a",
   "metadata": {},
   "outputs": [],
   "source": [
    "import random as r"
   ]
  },
  {
   "cell_type": "code",
   "execution_count": 107,
   "id": "846df197",
   "metadata": {},
   "outputs": [
    {
     "data": {
      "text/plain": [
       "[]"
      ]
     },
     "execution_count": 107,
     "metadata": {},
     "output_type": "execute_result"
    }
   ],
   "source": [
    "a = list()\n",
    "a"
   ]
  },
  {
   "cell_type": "code",
   "execution_count": 118,
   "id": "1eeeea0b",
   "metadata": {},
   "outputs": [
    {
     "data": {
      "text/plain": [
       "[1, 2, 3, 4, 5, 6, 7, 8, 9, 10, 1, 2, 3, 4, 5]"
      ]
     },
     "execution_count": 118,
     "metadata": {},
     "output_type": "execute_result"
    }
   ],
   "source": [
    "a = list(range(1,11))\n",
    "b = [1,2,3,4,5]\n",
    "a+b"
   ]
  },
  {
   "cell_type": "code",
   "execution_count": 119,
   "id": "7bbf9a88",
   "metadata": {},
   "outputs": [
    {
     "data": {
      "text/plain": [
       "[1, 2, 3, 4, 5, 6]"
      ]
     },
     "execution_count": 119,
     "metadata": {},
     "output_type": "execute_result"
    }
   ],
   "source": [
    "b.append(6)\n",
    "b"
   ]
  },
  {
   "cell_type": "markdown",
   "id": "e4a4ac48",
   "metadata": {},
   "source": [
    "a.insert(3,7): 리스트의 3번 인덱스에 7이라는 숫자를 추가"
   ]
  },
  {
   "cell_type": "code",
   "execution_count": 120,
   "id": "76078501",
   "metadata": {},
   "outputs": [
    {
     "data": {
      "text/plain": [
       "[1, 2, 3, 7, 4, 5, 6]"
      ]
     },
     "execution_count": 120,
     "metadata": {},
     "output_type": "execute_result"
    }
   ],
   "source": [
    "b.insert(3,7)\n",
    "b"
   ]
  },
  {
   "cell_type": "markdown",
   "id": "479a4d5c",
   "metadata": {},
   "source": [
    "a.pop(): 맨 끝 리스트 인덱스를 제거"
   ]
  },
  {
   "cell_type": "code",
   "execution_count": 121,
   "id": "c9db35d4",
   "metadata": {},
   "outputs": [
    {
     "data": {
      "text/plain": [
       "[1, 2, 3, 7, 4, 5]"
      ]
     },
     "execution_count": 121,
     "metadata": {},
     "output_type": "execute_result"
    }
   ],
   "source": [
    "b.pop()\n",
    "b"
   ]
  },
  {
   "cell_type": "code",
   "execution_count": 122,
   "id": "6f2ad8e8",
   "metadata": {},
   "outputs": [
    {
     "data": {
      "text/plain": [
       "[1, 2, 3, 4, 5]"
      ]
     },
     "execution_count": 122,
     "metadata": {},
     "output_type": "execute_result"
    }
   ],
   "source": [
    "b.pop(3)\n",
    "b"
   ]
  },
  {
   "cell_type": "markdown",
   "id": "9096f397",
   "metadata": {},
   "source": [
    "a.remove(4): 리스트에서 4라는 값을 지운다"
   ]
  },
  {
   "cell_type": "code",
   "execution_count": 124,
   "id": "6659a9f2",
   "metadata": {},
   "outputs": [
    {
     "data": {
      "text/plain": [
       "[1, 2, 3, 5]"
      ]
     },
     "execution_count": 124,
     "metadata": {},
     "output_type": "execute_result"
    }
   ],
   "source": [
    "b.remove(4)\n",
    "b"
   ]
  },
  {
   "cell_type": "markdown",
   "id": "bccf3ffa",
   "metadata": {},
   "source": [
    "a.index(5): 리스트에서 5의 인덱스 넘버를 도출"
   ]
  },
  {
   "cell_type": "code",
   "execution_count": 125,
   "id": "6d198441",
   "metadata": {},
   "outputs": [
    {
     "data": {
      "text/plain": [
       "3"
      ]
     },
     "execution_count": 125,
     "metadata": {},
     "output_type": "execute_result"
    }
   ],
   "source": [
    "b.index(5)"
   ]
  },
  {
   "cell_type": "markdown",
   "id": "c125463b",
   "metadata": {},
   "source": [
    "r.shuffle: 리스트의 요소들을 랜덤하게 섞음<br>\n",
    "a.sort(): 오름차순 정렬<br>\n",
    "a.sort(reverse=True): 내림차순 정렬<br>\n",
    "a.clear(): 빈 리스트로 만듦"
   ]
  },
  {
   "cell_type": "code",
   "execution_count": 126,
   "id": "3e6ebe71",
   "metadata": {},
   "outputs": [
    {
     "data": {
      "text/plain": [
       "[6, 8, 9, 2, 1, 4, 10, 3, 5, 7]"
      ]
     },
     "execution_count": 126,
     "metadata": {},
     "output_type": "execute_result"
    }
   ],
   "source": [
    "a = list(range(1,11))\n",
    "r.shuffle(a)\n",
    "a"
   ]
  },
  {
   "cell_type": "code",
   "execution_count": 128,
   "id": "ddbbd1e4",
   "metadata": {},
   "outputs": [
    {
     "data": {
      "text/plain": [
       "[1, 2, 3, 4, 5, 6, 7, 8, 9, 10]"
      ]
     },
     "execution_count": 128,
     "metadata": {},
     "output_type": "execute_result"
    }
   ],
   "source": [
    "a.sort()\n",
    "a"
   ]
  },
  {
   "cell_type": "code",
   "execution_count": 129,
   "id": "95d1df81",
   "metadata": {},
   "outputs": [
    {
     "data": {
      "text/plain": [
       "[10, 9, 8, 7, 6, 5, 4, 3, 2, 1]"
      ]
     },
     "execution_count": 129,
     "metadata": {},
     "output_type": "execute_result"
    }
   ],
   "source": [
    "a.sort(reverse=True)\n",
    "a"
   ]
  },
  {
   "cell_type": "code",
   "execution_count": 130,
   "id": "8ddd602d",
   "metadata": {},
   "outputs": [
    {
     "data": {
      "text/plain": [
       "[]"
      ]
     },
     "execution_count": 130,
     "metadata": {},
     "output_type": "execute_result"
    }
   ],
   "source": [
    "a.clear()\n",
    "a"
   ]
  },
  {
   "cell_type": "markdown",
   "id": "41bcdb2a",
   "metadata": {},
   "source": [
    "enumerate(a): (인덱스 넘버, 해당 숫자)"
   ]
  },
  {
   "cell_type": "code",
   "execution_count": 131,
   "id": "5e77533c",
   "metadata": {},
   "outputs": [
    {
     "name": "stdout",
     "output_type": "stream",
     "text": [
      "(0, 23)\n",
      "(1, 45)\n",
      "(2, 36)\n",
      "(3, 17)\n",
      "(4, 85)\n"
     ]
    }
   ],
   "source": [
    "a = [23,45,36,17,85]\n",
    "for x in enumerate(a):\n",
    "    print(x)"
   ]
  },
  {
   "cell_type": "markdown",
   "id": "b69c146d",
   "metadata": {},
   "source": [
    "소괄호면 tuple<br>\n",
    "list는 값을 변경할 수 있지만 tuple은 값을 변경할 수 없다"
   ]
  },
  {
   "cell_type": "code",
   "execution_count": 132,
   "id": "42846fcb",
   "metadata": {
    "scrolled": true
   },
   "outputs": [
    {
     "name": "stdout",
     "output_type": "stream",
     "text": [
      "0 23\n",
      "1 45\n",
      "2 36\n",
      "3 17\n",
      "4 85\n"
     ]
    }
   ],
   "source": [
    "for x in enumerate(a):\n",
    "    print(x[0], x[1])"
   ]
  },
  {
   "cell_type": "code",
   "execution_count": 133,
   "id": "07bbdfbd",
   "metadata": {},
   "outputs": [
    {
     "name": "stdout",
     "output_type": "stream",
     "text": [
      "0 23\n",
      "1 45\n",
      "2 36\n",
      "3 17\n",
      "4 85\n"
     ]
    }
   ],
   "source": [
    "for index, value in enumerate(a):\n",
    "    print(index, value)"
   ]
  },
  {
   "cell_type": "markdown",
   "id": "b863b6c1",
   "metadata": {},
   "source": [
    "all: 모든 조건이 참이어야 true<br>\n",
    "any: 조건 중 하나라도 참이 있으면 true"
   ]
  },
  {
   "cell_type": "code",
   "execution_count": 136,
   "id": "f6a2780d",
   "metadata": {},
   "outputs": [
    {
     "name": "stdout",
     "output_type": "stream",
     "text": [
      "Yes\n"
     ]
    }
   ],
   "source": [
    "if all(x<90 for x in a):\n",
    "    print('Yes')\n",
    "else:\n",
    "    print('No')"
   ]
  },
  {
   "cell_type": "code",
   "execution_count": 137,
   "id": "20b2afab",
   "metadata": {},
   "outputs": [
    {
     "name": "stdout",
     "output_type": "stream",
     "text": [
      "No\n"
     ]
    }
   ],
   "source": [
    "if all(x<80 for x in a):\n",
    "    print('Yes')\n",
    "else:\n",
    "    print('No')"
   ]
  },
  {
   "cell_type": "code",
   "execution_count": 138,
   "id": "512b6453",
   "metadata": {},
   "outputs": [
    {
     "name": "stdout",
     "output_type": "stream",
     "text": [
      "Yes\n"
     ]
    }
   ],
   "source": [
    "if any(x<70 for x in a):\n",
    "    print('Yes')\n",
    "else:\n",
    "    print('No')"
   ]
  },
  {
   "cell_type": "markdown",
   "id": "38e38ba2",
   "metadata": {},
   "source": [
    "# 10강"
   ]
  },
  {
   "cell_type": "code",
   "execution_count": 140,
   "id": "c4032c39",
   "metadata": {},
   "outputs": [
    {
     "data": {
      "text/plain": [
       "[0, 0, 0, 0, 0]"
      ]
     },
     "execution_count": 140,
     "metadata": {},
     "output_type": "execute_result"
    }
   ],
   "source": [
    "a = [0]*5\n",
    "a"
   ]
  },
  {
   "cell_type": "markdown",
   "id": "e6f413e2",
   "metadata": {},
   "source": [
    "2차원 리스트 만들기"
   ]
  },
  {
   "cell_type": "code",
   "execution_count": 141,
   "id": "1e6e7349",
   "metadata": {},
   "outputs": [
    {
     "data": {
      "text/plain": [
       "[[0, 0, 0], [0, 0, 0], [0, 0, 0]]"
      ]
     },
     "execution_count": 141,
     "metadata": {},
     "output_type": "execute_result"
    }
   ],
   "source": [
    "a = [[0]*3 for _ in range(3)]\n",
    "a"
   ]
  },
  {
   "cell_type": "markdown",
   "id": "bf0d2311",
   "metadata": {},
   "source": [
    "### 첫번째 리스트는 첫 행(2차원 리스트는 행렬의 형태)"
   ]
  },
  {
   "cell_type": "code",
   "execution_count": 142,
   "id": "4bd621f8",
   "metadata": {},
   "outputs": [
    {
     "data": {
      "text/plain": [
       "[[0, 1, 0], [0, 0, 0], [0, 0, 0]]"
      ]
     },
     "execution_count": 142,
     "metadata": {},
     "output_type": "execute_result"
    }
   ],
   "source": [
    "a[0][1] = 1\n",
    "a"
   ]
  },
  {
   "cell_type": "code",
   "execution_count": 145,
   "id": "34490344",
   "metadata": {},
   "outputs": [
    {
     "data": {
      "text/plain": [
       "[[0, 1, 0], [0, 2, 0], [0, 0, 0]]"
      ]
     },
     "execution_count": 145,
     "metadata": {},
     "output_type": "execute_result"
    }
   ],
   "source": [
    "a[1][1]=2\n",
    "a"
   ]
  },
  {
   "cell_type": "markdown",
   "id": "0dec051e",
   "metadata": {},
   "source": [
    "### 행렬의 형태로 보기"
   ]
  },
  {
   "cell_type": "code",
   "execution_count": 146,
   "id": "9cbb0950",
   "metadata": {},
   "outputs": [
    {
     "name": "stdout",
     "output_type": "stream",
     "text": [
      "[0, 1, 0]\n",
      "[0, 2, 0]\n",
      "[0, 0, 0]\n"
     ]
    }
   ],
   "source": [
    "for x in a:\n",
    "    print(x)"
   ]
  },
  {
   "cell_type": "code",
   "execution_count": 148,
   "id": "21f133fd",
   "metadata": {},
   "outputs": [
    {
     "name": "stdout",
     "output_type": "stream",
     "text": [
      "0 1 0 \n",
      "0 2 0 \n",
      "0 0 0 \n"
     ]
    }
   ],
   "source": [
    "for x in a:\n",
    "    for y in x:\n",
    "        print(y, end = ' ')\n",
    "    print()"
   ]
  },
  {
   "cell_type": "markdown",
   "id": "408396f8",
   "metadata": {},
   "source": [
    "# 11강"
   ]
  },
  {
   "cell_type": "code",
   "execution_count": 149,
   "id": "8d59b43a",
   "metadata": {},
   "outputs": [
    {
     "name": "stdout",
     "output_type": "stream",
     "text": [
      "5\n"
     ]
    }
   ],
   "source": [
    "def add(a,b):\n",
    "    c = a+b\n",
    "    print(c)\n",
    "add(3,2)"
   ]
  },
  {
   "cell_type": "markdown",
   "id": "33e6cf6f",
   "metadata": {},
   "source": [
    "return = print + 함수를 종결하는 역할"
   ]
  },
  {
   "cell_type": "code",
   "execution_count": 151,
   "id": "51214166",
   "metadata": {},
   "outputs": [
    {
     "data": {
      "text/plain": [
       "5"
      ]
     },
     "execution_count": 151,
     "metadata": {},
     "output_type": "execute_result"
    }
   ],
   "source": [
    "def add(a,b):\n",
    "    c = a+b\n",
    "    return(c)\n",
    "add(3,2)"
   ]
  },
  {
   "cell_type": "code",
   "execution_count": 153,
   "id": "6a6ea0ad",
   "metadata": {},
   "outputs": [
    {
     "data": {
      "text/plain": [
       "(23, -7)"
      ]
     },
     "execution_count": 153,
     "metadata": {},
     "output_type": "execute_result"
    }
   ],
   "source": [
    "def add(a,b):\n",
    "    c = a+b\n",
    "    d = a-b\n",
    "    return(c,d)\n",
    "add(8,15)"
   ]
  },
  {
   "cell_type": "code",
   "execution_count": 163,
   "id": "adfd0992",
   "metadata": {},
   "outputs": [],
   "source": [
    "a = [12,13,7,9,19]\n",
    "def isPrime(x):\n",
    "    for i in range(2,x):\n",
    "        if x%i == 0:\n",
    "            return False\n",
    "    return True"
   ]
  },
  {
   "cell_type": "code",
   "execution_count": 164,
   "id": "85f354a1",
   "metadata": {},
   "outputs": [
    {
     "name": "stdout",
     "output_type": "stream",
     "text": [
      "13 7 19 "
     ]
    }
   ],
   "source": [
    "for x in a:\n",
    "    if isPrime(x):\n",
    "        print(x, end=' ')"
   ]
  },
  {
   "cell_type": "markdown",
   "id": "ea454de2",
   "metadata": {},
   "source": [
    "# 12강"
   ]
  },
  {
   "cell_type": "markdown",
   "id": "3119d1b1",
   "metadata": {},
   "source": [
    "람다는 주로 sort의 인자로 사용할 때 사용(어떤것을 기준으로 정렬할 것인지)"
   ]
  },
  {
   "cell_type": "code",
   "execution_count": 170,
   "id": "d0ed541a",
   "metadata": {},
   "outputs": [],
   "source": [
    "def plus_one(x):\n",
    "    return x+1"
   ]
  },
  {
   "cell_type": "code",
   "execution_count": 165,
   "id": "e33c9edc",
   "metadata": {},
   "outputs": [
    {
     "data": {
      "text/plain": [
       "3"
      ]
     },
     "execution_count": 165,
     "metadata": {},
     "output_type": "execute_result"
    }
   ],
   "source": [
    "plus_two = lambda x:x+2\n",
    "plus_two(1)"
   ]
  },
  {
   "cell_type": "code",
   "execution_count": 171,
   "id": "0d4ce067",
   "metadata": {},
   "outputs": [
    {
     "name": "stdout",
     "output_type": "stream",
     "text": [
      "[2, 3, 4]\n"
     ]
    }
   ],
   "source": [
    "a = [1,2,3]\n",
    "print(list(map(plus_one, a)))"
   ]
  },
  {
   "cell_type": "code",
   "execution_count": 172,
   "id": "3c15f7b1",
   "metadata": {},
   "outputs": [
    {
     "data": {
      "text/plain": [
       "[2, 3, 4]"
      ]
     },
     "execution_count": 172,
     "metadata": {},
     "output_type": "execute_result"
    }
   ],
   "source": [
    "list(map(lambda x:x+1,a))"
   ]
  }
 ],
 "metadata": {
  "kernelspec": {
   "display_name": "Python 3 (ipykernel)",
   "language": "python",
   "name": "python3"
  },
  "language_info": {
   "codemirror_mode": {
    "name": "ipython",
    "version": 3
   },
   "file_extension": ".py",
   "mimetype": "text/x-python",
   "name": "python",
   "nbconvert_exporter": "python",
   "pygments_lexer": "ipython3",
   "version": "3.8.11"
  }
 },
 "nbformat": 4,
 "nbformat_minor": 5
}
