{
 "cells": [
  {
   "cell_type": "markdown",
   "id": "4c008a35",
   "metadata": {},
   "source": [
    "# 1강"
   ]
  },
  {
   "cell_type": "code",
   "execution_count": 17,
   "id": "28bedf57",
   "metadata": {},
   "outputs": [
    {
     "data": {
      "text/plain": [
       "'\\n여러 줄 주석\\n정규형 재취준 기원\\n머리가 띵\\n오윤택님 감사합니다\\n\\n'"
      ]
     },
     "execution_count": 17,
     "metadata": {},
     "output_type": "execute_result"
    }
   ],
   "source": [
    "'''\n",
    "여러 줄 주석\n",
    "정규형 재취준 기원\n",
    "머리가 띵\n",
    "오윤택님 감사합니다\n",
    "\n",
    "'''"
   ]
  },
  {
   "cell_type": "code",
   "execution_count": 18,
   "id": "ab857021",
   "metadata": {},
   "outputs": [],
   "source": [
    "a= 123\n",
    "type(a)\n",
    "b='1234'\n",
    "type(b)\n",
    "c= 5"
   ]
  },
  {
   "cell_type": "code",
   "execution_count": 19,
   "id": "6887418e",
   "metadata": {},
   "outputs": [
    {
     "name": "stdout",
     "output_type": "stream",
     "text": [
      "number : 123 1234 5\n"
     ]
    }
   ],
   "source": [
    "print('number :', a, b, c)"
   ]
  },
  {
   "cell_type": "code",
   "execution_count": 20,
   "id": "3087eac2",
   "metadata": {},
   "outputs": [
    {
     "name": "stdout",
     "output_type": "stream",
     "text": [
      "123, 1234, 5\n"
     ]
    }
   ],
   "source": [
    "print(a, b, c,sep=', ')"
   ]
  },
  {
   "cell_type": "code",
   "execution_count": 21,
   "id": "0b45669e",
   "metadata": {},
   "outputs": [
    {
     "name": "stdout",
     "output_type": "stream",
     "text": [
      "123\n",
      "1234\n",
      "5\n"
     ]
    }
   ],
   "source": [
    "print(a,b,c,sep='\\n')"
   ]
  },
  {
   "cell_type": "code",
   "execution_count": 22,
   "id": "af749640",
   "metadata": {
    "scrolled": true
   },
   "outputs": [
    {
     "name": "stdout",
     "output_type": "stream",
     "text": [
      "123 1234\n",
      "5\n"
     ]
    }
   ],
   "source": [
    "print(a, end=' ')\n",
    "print(b)\n",
    "print(c)"
   ]
  },
  {
   "cell_type": "markdown",
   "id": "4a323946",
   "metadata": {},
   "source": [
    "# 2강"
   ]
  },
  {
   "cell_type": "code",
   "execution_count": 23,
   "id": "3e558193",
   "metadata": {},
   "outputs": [
    {
     "name": "stdout",
     "output_type": "stream",
     "text": [
      "나이를 입력하세요: 20\n",
      "20\n"
     ]
    }
   ],
   "source": [
    "a = input('나이를 입력하세요: ')\n",
    "print(a)"
   ]
  },
  {
   "cell_type": "code",
   "execution_count": 25,
   "id": "1406cc78",
   "metadata": {
    "scrolled": true
   },
   "outputs": [
    {
     "name": "stdout",
     "output_type": "stream",
     "text": [
      "나이를 입력하세요: 20 21\n"
     ]
    }
   ],
   "source": [
    "a, b = input('나이를 입력하세요: ').split()"
   ]
  },
  {
   "cell_type": "code",
   "execution_count": 27,
   "id": "dae15984",
   "metadata": {},
   "outputs": [
    {
     "name": "stdout",
     "output_type": "stream",
     "text": [
      "20, 21\n"
     ]
    }
   ],
   "source": [
    "print(a,b, sep=', ')"
   ]
  },
  {
   "cell_type": "code",
   "execution_count": 28,
   "id": "615549f3",
   "metadata": {},
   "outputs": [
    {
     "data": {
      "text/plain": [
       "str"
      ]
     },
     "execution_count": 28,
     "metadata": {},
     "output_type": "execute_result"
    }
   ],
   "source": [
    "type(a)"
   ]
  },
  {
   "cell_type": "code",
   "execution_count": 29,
   "id": "e3408bbf",
   "metadata": {},
   "outputs": [
    {
     "data": {
      "text/plain": [
       "41"
      ]
     },
     "execution_count": 29,
     "metadata": {},
     "output_type": "execute_result"
    }
   ],
   "source": [
    "a = int(a)\n",
    "b = int(b)\n",
    "a+b"
   ]
  },
  {
   "cell_type": "code",
   "execution_count": 32,
   "id": "7a8f7faf",
   "metadata": {},
   "outputs": [
    {
     "name": "stdout",
     "output_type": "stream",
     "text": [
      "점수를 입력해주세요: 40 80\n"
     ]
    }
   ],
   "source": [
    "a,b = map(int, input('점수를 입력해주세요: ').split())"
   ]
  },
  {
   "cell_type": "code",
   "execution_count": 35,
   "id": "67169669",
   "metadata": {},
   "outputs": [
    {
     "name": "stdout",
     "output_type": "stream",
     "text": [
      "120\n",
      "2\n"
     ]
    }
   ],
   "source": [
    "print(a+b)\n",
    "print(b//a)"
   ]
  },
  {
   "cell_type": "markdown",
   "id": "fb19101f",
   "metadata": {},
   "source": [
    "# 3강"
   ]
  },
  {
   "cell_type": "code",
   "execution_count": 36,
   "id": "e08cdcae",
   "metadata": {},
   "outputs": [
    {
     "name": "stdout",
     "output_type": "stream",
     "text": [
      "10보다 작은 자연수\n"
     ]
    }
   ],
   "source": [
    "x = 5\n",
    "if 0<x<10:\n",
    "    print('10보다 작은 자연수')"
   ]
  },
  {
   "cell_type": "markdown",
   "id": "21199c75",
   "metadata": {},
   "source": [
    "# 4강"
   ]
  },
  {
   "cell_type": "code",
   "execution_count": 38,
   "id": "79f68c95",
   "metadata": {},
   "outputs": [
    {
     "name": "stdout",
     "output_type": "stream",
     "text": [
      "[0, 1, 2, 3, 4, 5, 6, 7, 8, 9]\n"
     ]
    }
   ],
   "source": [
    "a = range(10)\n",
    "print(list(a))"
   ]
  },
  {
   "cell_type": "code",
   "execution_count": 39,
   "id": "31df8733",
   "metadata": {},
   "outputs": [
    {
     "name": "stdout",
     "output_type": "stream",
     "text": [
      "[1, 2, 3, 4, 5, 6, 7, 8, 9, 10]\n"
     ]
    }
   ],
   "source": [
    "b = range(1,11)\n",
    "print(list(b))"
   ]
  },
  {
   "cell_type": "code",
   "execution_count": 41,
   "id": "9890b63b",
   "metadata": {},
   "outputs": [
    {
     "name": "stdout",
     "output_type": "stream",
     "text": [
      "[10, 9, 8, 7, 6, 5, 4, 3, 2, 1]\n"
     ]
    }
   ],
   "source": [
    "c = range(10, 0, -1)\n",
    "print(list(c))"
   ]
  },
  {
   "cell_type": "code",
   "execution_count": 43,
   "id": "dcd83b8d",
   "metadata": {},
   "outputs": [
    {
     "name": "stdout",
     "output_type": "stream",
     "text": [
      "[0, 2, 4, 6, 8, 10, 12, 14, 16, 18, 20]\n"
     ]
    }
   ],
   "source": [
    "d = range(0,21,2)\n",
    "print(list(d))"
   ]
  },
  {
   "cell_type": "code",
   "execution_count": 49,
   "id": "c14816f3",
   "metadata": {},
   "outputs": [
    {
     "name": "stdout",
     "output_type": "stream",
     "text": [
      "1\n",
      "2\n",
      "3\n",
      "4\n",
      "5\n",
      "6\n",
      "7\n",
      "8\n",
      "9\n",
      "10\n"
     ]
    }
   ],
   "source": [
    "i  = 1\n",
    "while i<=10:\n",
    "    print(i)\n",
    "    i += 1"
   ]
  },
  {
   "cell_type": "code",
   "execution_count": 45,
   "id": "adabcf76",
   "metadata": {},
   "outputs": [
    {
     "name": "stdout",
     "output_type": "stream",
     "text": [
      "10\n",
      "9\n",
      "8\n",
      "7\n",
      "6\n",
      "5\n",
      "4\n",
      "3\n",
      "2\n",
      "1\n"
     ]
    }
   ],
   "source": [
    "i = 10\n",
    "while i >=1:\n",
    "    print(i)\n",
    "    i = i-1"
   ]
  },
  {
   "cell_type": "code",
   "execution_count": 51,
   "id": "d8a5823c",
   "metadata": {},
   "outputs": [
    {
     "data": {
      "text/plain": [
       "2"
      ]
     },
     "execution_count": 51,
     "metadata": {},
     "output_type": "execute_result"
    }
   ],
   "source": [
    "i = 1\n",
    "i+1\n",
    "# i+=1: 반복문 안에서만 유효"
   ]
  },
  {
   "cell_type": "code",
   "execution_count": 52,
   "id": "1b6af4c3",
   "metadata": {},
   "outputs": [
    {
     "name": "stdout",
     "output_type": "stream",
     "text": [
      "1\n",
      "2\n",
      "3\n",
      "4\n",
      "5\n"
     ]
    }
   ],
   "source": [
    "i = 1\n",
    "while True:\n",
    "    print(i)\n",
    "    if i == 5:\n",
    "        break\n",
    "    i+=1\n",
    "    "
   ]
  },
  {
   "cell_type": "code",
   "execution_count": 53,
   "id": "e3393881",
   "metadata": {},
   "outputs": [
    {
     "name": "stdout",
     "output_type": "stream",
     "text": [
      "1\n",
      "3\n",
      "5\n",
      "7\n",
      "9\n"
     ]
    }
   ],
   "source": [
    "for i in range(11):\n",
    "    if i%2 == 0:\n",
    "        continue\n",
    "    print(i)"
   ]
  },
  {
   "cell_type": "code",
   "execution_count": 55,
   "id": "39c98b56",
   "metadata": {},
   "outputs": [
    {
     "name": "stdout",
     "output_type": "stream",
     "text": [
      "1\n",
      "2\n",
      "3\n",
      "4\n",
      "5\n"
     ]
    }
   ],
   "source": [
    "for i in range(1, 11):\n",
    "    print(i)\n",
    "    if i >=5:\n",
    "        break\n",
    "else:\n",
    "    print(i)"
   ]
  },
  {
   "cell_type": "markdown",
   "id": "6c24aefc",
   "metadata": {},
   "source": [
    "# 5강"
   ]
  },
  {
   "cell_type": "markdown",
   "id": "91714bed",
   "metadata": {},
   "source": [
    "### 1부터 N까지 홀수 출력"
   ]
  },
  {
   "cell_type": "code",
   "execution_count": 61,
   "id": "8f41a52e",
   "metadata": {},
   "outputs": [
    {
     "name": "stdout",
     "output_type": "stream",
     "text": [
      "21\n",
      "1\n",
      "3\n",
      "5\n",
      "7\n",
      "9\n",
      "11\n",
      "13\n",
      "15\n",
      "17\n",
      "19\n",
      "21\n"
     ]
    }
   ],
   "source": [
    "N = int(input())\n",
    "for i in range(1, N+1):\n",
    "    if i%2 == 0:\n",
    "        continue\n",
    "    print(i)"
   ]
  },
  {
   "cell_type": "markdown",
   "id": "88dca7e7",
   "metadata": {},
   "source": [
    "### 1부터 N까지의 합 구하기"
   ]
  },
  {
   "cell_type": "code",
   "execution_count": 64,
   "id": "f0cba184",
   "metadata": {},
   "outputs": [
    {
     "name": "stdout",
     "output_type": "stream",
     "text": [
      "57\n",
      "841\n"
     ]
    }
   ],
   "source": [
    "N = int(input())\n",
    "hap = 0\n",
    "for i in range(1, N+1):\n",
    "    if i%2 == 0:\n",
    "        continue\n",
    "    hap = hap+i\n",
    "print(hap)"
   ]
  },
  {
   "cell_type": "markdown",
   "id": "ff90dd5f",
   "metadata": {},
   "source": [
    "### N의 약수 출력하기"
   ]
  },
  {
   "cell_type": "code",
   "execution_count": 68,
   "id": "a3c555d0",
   "metadata": {},
   "outputs": [
    {
     "name": "stdout",
     "output_type": "stream",
     "text": [
      "64\n",
      "1 2 4 8 16 32 64 "
     ]
    }
   ],
   "source": [
    "N = int(input())\n",
    "for i in range(1, N+1):\n",
    "    if N%i == 0:\n",
    "        print(i, end = ' ')"
   ]
  },
  {
   "cell_type": "markdown",
   "id": "e114089d",
   "metadata": {},
   "source": [
    "# 6강"
   ]
  },
  {
   "cell_type": "code",
   "execution_count": null,
   "id": "0049c457",
   "metadata": {},
   "outputs": [],
   "source": []
  }
 ],
 "metadata": {
  "kernelspec": {
   "display_name": "Python 3 (ipykernel)",
   "language": "python",
   "name": "python3"
  },
  "language_info": {
   "codemirror_mode": {
    "name": "ipython",
    "version": 3
   },
   "file_extension": ".py",
   "mimetype": "text/x-python",
   "name": "python",
   "nbconvert_exporter": "python",
   "pygments_lexer": "ipython3",
   "version": "3.8.11"
  }
 },
 "nbformat": 4,
 "nbformat_minor": 5
}
